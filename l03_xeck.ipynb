{
 "cells": [
  {
   "cell_type": "markdown",
   "metadata": {},
   "source": [
    "Führen Sie zunächst wieder diesen Code aus, um das Notebook zu initialisieren."
   ]
  },
  {
   "cell_type": "code",
   "execution_count": 1,
   "metadata": {},
   "outputs": [
    {
     "data": {
      "application/vnd.jupyter.widget-view+json": {
       "model_id": "08dd16ae1d4c4f7ab51d40f660cba9f9",
       "version_major": 2,
       "version_minor": 0
      },
      "text/plain": [
       "Canvas(height=600, width=800)"
      ]
     },
     "metadata": {},
     "output_type": "display_data"
    }
   ],
   "source": [
    "import ipyturtle3 as turtle\n",
    "myCanvas=turtle.Canvas(width=800,height=600)\n",
    "display(myCanvas)\n",
    "myTS=turtle.TurtleScreen(myCanvas)\n",
    "myTS.colormode(255)\n",
    "myTS.clear()\n",
    "t=turtle.Turtle(myTS)\n",
    "t.clear()"
   ]
  },
  {
   "cell_type": "markdown",
   "metadata": {},
   "source": [
    "## Aufgabe: `xeck(anzahl, laenge)`\n",
    "\n",
    "Sie wissen nun, wie man Variabeln definiert und funktionen schreibt. Die Macht liegt darin, diese alle zu verbinden!\n",
    "\n",
    "Anstatt eine Funktion dreieck(), quadrat(), fuenfeck() etc. zu schreiben, wollen wir eine **allgemeingültige Funktion** schreiben, die uns **alle** n-Ecks zeichnet. Erstellen Sie dazu eine Funktion `xeck(anzahl, laenge)`, der Sie die Anzahl Ecken (z.B. 3) und die Länge der Seiten (z.B. 50) übergeben können. \n",
    "\n",
    "\n",
    "        \n",
    "<table border=\"1\" align=\"left\" >\n",
    "<tr><td style=\"text-align: center\">Dreieck</td>\n",
    "    <td style=\"text-align: center\">Quadrat</td>\n",
    "    <td style=\"text-align: center\">Sechseck</td></tr>\n",
    "<tr><td style=\"text-align: left\">\n",
    "<pre>\n",
    "for j in range (3):\n",
    "    t.forward(50)\n",
    "    t.right(120)\n",
    "</pre></td>\n",
    "<td style=\"text-align: left\">\n",
    "<pre>\n",
    "for j in range (4):\n",
    "    t.forward(50)\n",
    "    t.right(90) \n",
    "</pre></td>\n",
    "</pre></td>\n",
    "<td style=\"text-align: left\">\n",
    "<pre>\n",
    "for j in range (6):\n",
    "    t.forward(50)\n",
    "    t.right(60)\n",
    "</pre></td>\n",
    "</tr>\n",
    "</table>\n"
   ]
  },
  {
   "cell_type": "markdown",
   "metadata": {},
   "source": [
    "Arbeiten Sie die Gemeinsamkeiten und Unterschiede heraus, um die Funktion xeck zu erstellen."
   ]
  },
  {
   "cell_type": "code",
   "execution_count": null,
   "metadata": {},
   "outputs": [],
   "source": [
    "t.reset()\n",
    "# hier kommt Ihr Code hin\n",
    "\n",
    "\n",
    "# folgender Aufruf ergibt die Figur unterhalb\n",
    "xeck(3, 40)\n",
    "xeck(4, 40)\n",
    "xeck(5, 40)\n",
    "xeck(6, 40)\n",
    "xeck(7, 40)"
   ]
  },
  {
   "cell_type": "markdown",
   "metadata": {},
   "source": [
    "\n",
    "<img src=\"https://www.human.li/lp/img/py_xeck.png\">\n"
   ]
  }
 ],
 "metadata": {
  "kernelspec": {
   "display_name": "Python 3 (ipykernel)",
   "language": "python",
   "name": "python3"
  },
  "language_info": {
   "codemirror_mode": {
    "name": "ipython",
    "version": 3
   },
   "file_extension": ".py",
   "mimetype": "text/x-python",
   "name": "python",
   "nbconvert_exporter": "python",
   "pygments_lexer": "ipython3",
   "version": "3.10.9"
  }
 },
 "nbformat": 4,
 "nbformat_minor": 4
}
