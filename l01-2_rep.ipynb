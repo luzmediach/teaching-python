{
 "cells": [
  {
   "cell_type": "markdown",
   "metadata": {},
   "source": [
    "# Turtle\n",
    "\n",
    "Übersicht über die wichtigsten Befehle:\n",
    "- "
   ]
  },
  {
   "cell_type": "markdown",
   "metadata": {},
   "source": [
    "- `reset()` setzt die Turtle wieder in die Mitte des leeren Zeichenfelds\n",
    "- `forward(50)` bewegt die die Turtle 50 Einheiten nach vorne, `back(50)` wäre das Gegenstück dazu und lässt die Turtle rückwärts laufen\n",
    "- `left(90)` und `right(60)` dreht die Turtle um eine bestimmte Anzahl Grad nach links oder rechts\n",
    "- `back(20)` 20 Einheiten rückwärts\n",
    "- `penup()` hebt den Zeichenstift an, und das Gegenstrück `pendown()` setzt ihn wieder ab, so dass erneut eine Spur zurückbleibt, wenn die Turtle sich bewegt"
   ]
  },
  {
   "cell_type": "markdown",
   "metadata": {},
   "source": [
    "# <font color=\"#d83931\">Eine</font> <font color=\"#00b050\">farbige</font> <font color=\"#0070c0\">Repetition</font>\n",
    "\n",
    "Bringen wir für diese Repetition etwas Farbe ins Spiel!\n",
    "- `pencolor(ROT, GRÜN, BLAU)` setzt die Farbe des Stifts. Statt `ROT` muss eine Zahl zwischen `0` und `255` gesetzt werden, die dem Anteil der Farbe Rot an der Gesamtmischung entspricht. Dasselbe gilt für `GRÜN` und `BLAU`. Wollen Sie eine konkrete Farbe, so können Sie z.B. [colorspire.com](https://www.colorspire.com/rgb-color-wheel/) nutzen um die drei Zahlen zu finden\n",
    "\n",
    "Die folgende Zeile müssen Sie nur __ein einziges Mal__ ausführen:"
   ]
  },
  {
   "cell_type": "code",
   "execution_count": null,
   "metadata": {},
   "outputs": [],
   "source": [
    "import ipyturtle3 as turtle\n",
    "myCanvas=turtle.Canvas(width=800,height=600)\n",
    "display(myCanvas)\n",
    "myTS=turtle.TurtleScreen(myCanvas)\n",
    "myTS.colormode(255)\n",
    "myTS.clear()\n",
    "t=turtle.Turtle(myTS)\n",
    "t.clear()"
   ]
  },
  {
   "cell_type": "markdown",
   "metadata": {},
   "source": [
    "Danach können Sie die Turtle folgendermassen zum Ursprung bewegen (`reset()`) und somit eine neue Aufgabe beginnen. Eventuell müssen Sie die Farbe wieder auf schwarz stellen):"
   ]
  },
  {
   "cell_type": "code",
   "execution_count": 23,
   "metadata": {},
   "outputs": [],
   "source": [
    "t.reset()\n",
    "myTS.colormode(255)\n",
    "t.pencolor(0,0,0)"
   ]
  },
  {
   "cell_type": "markdown",
   "metadata": {},
   "source": [
    "Beispielzeichnung"
   ]
  },
  {
   "cell_type": "code",
   "execution_count": 24,
   "metadata": {},
   "outputs": [],
   "source": [
    "t.reset()\n",
    "myTS.colormode(255)\n",
    "t.hideturtle()\n",
    "t.forward(50)\n",
    "t.showturtle()\n",
    "t.penup()\n",
    "t.left(90)\n",
    "t.right(180)\n",
    "t.back(20)\n",
    "t.pendown()\n",
    "t.pencolor(255,0,0)\n",
    "t.forward(40)\n",
    "t.pencolor(0,0,0)"
   ]
  },
  {
   "attachments": {},
   "cell_type": "markdown",
   "metadata": {},
   "source": [
    "Jetzt wollen wir aber nicht nur fixe Farben verwenden - wir wollen Zufalls-Farben! Überlegen Sie sich mal, wie das gehen könnte. Wir importieren hier eine Zufallsfunktion des Moduls \"random\". Sie können mit der Funktion `randint(0,255)` eine Zufalls*zahl* zwischen 0 und 255 erzeugen. Aber wie machen Sie daraus eine Zufalls*farbe*? Versuchen Sie den Code oben abzuändern, damit die Striche Zufallsfarben haben."
   ]
  },
  {
   "cell_type": "code",
   "execution_count": 18,
   "metadata": {},
   "outputs": [
    {
     "data": {
      "text/plain": [
       "124"
      ]
     },
     "execution_count": 18,
     "metadata": {},
     "output_type": "execute_result"
    }
   ],
   "source": [
    "# Führen Sie diese Zelle einige Male aus, so sehen Sie, dass hier Zufallszahlen entstehen.\n",
    "from random import randint\n",
    "randint(0,255)"
   ]
  },
  {
   "attachments": {},
   "cell_type": "markdown",
   "metadata": {},
   "source": [
    "## Aufgabe: Treppe - aber diesmal farbig\n",
    "\n",
    "Bauen Sie diese Treppe mit 8 Stufen und Stufenlänge 10. Ich empfehle: Divide & conquer. Bauen Sie die Treppe zuerst mit Schlaufen und lösen Sie dann erst das Problem mit den Farben \n",
    "\n",
    "<img width=\"200\" src=\"https://luzmedia.ch/pubfiles/it-teaching/py_l2/farbigetreppe.png\">"
   ]
  },
  {
   "cell_type": "code",
   "execution_count": 27,
   "metadata": {},
   "outputs": [],
   "source": [
    "t.reset()\n",
    "myTS.colormode(255)\n",
    "# hier kommt Ihr Code hin\n"
   ]
  },
  {
   "attachments": {},
   "cell_type": "markdown",
   "metadata": {},
   "source": [
    "## Aufgabe: Farbige Schiene\n",
    "\n",
    "Bauen Sie diese Schiene mit 10 Quadraten mit Seitenlänge 10, wobei jedes Quadrat wieder eine neue Zufallsfarbe hat\n",
    "\n",
    "<img width=\"300\" src=\"https://luzmedia.ch/pubfiles/it-teaching/py_l2/farbigeschiene.png\">\n"
   ]
  },
  {
   "cell_type": "markdown",
   "metadata": {},
   "source": [
    "Bonuspunkte, wenn Sie das Quadrat mit einer verschachtelten, inneren Schlaufe lösen (Sie müssen dazu aber dann in der äusseren Schlaufe `for i in range..` und in der inneren `for j in range..` verwenden, also nicht zwei Mal denselben Buchstaben - einmal `i` und einmal `j`)\n",
    "```python\n",
    "for i in range (10):\n",
    "    # eventueller Code, der 10 Mal ausgeführt wird\n",
    "    for j in range (4):\n",
    "        # Code, der 10x4, also 40 Mal ausgeführt werden soll\n",
    "    # eventueller Code, der 10 Mal ausgeführt wird\n",
    "```"
   ]
  },
  {
   "cell_type": "code",
   "execution_count": 27,
   "metadata": {},
   "outputs": [],
   "source": [
    "t.reset()\n",
    "myTS.colormode(255)\n",
    "# hier kommt Ihr Code hin\n"
   ]
  },
  {
   "attachments": {},
   "cell_type": "markdown",
   "metadata": {},
   "source": [
    "## Aufgabe: Quadrat-Kreis\n",
    "\n",
    "Bauen Sie diese Figur mit 12 Quadraten mit Seitenlänge 50\n",
    "\n",
    "<img width=\"300\" src=\"https://luzmedia.ch/pubfiles/it-teaching/py_l2/farbigerquadratkreis.png\">\n",
    "\n",
    "Bonuspunkte, wenn Sie das Quadrat ebenfalls mit einer verschachtelten, inneren Schlaufe lösen (Sie müssen dazu aber dann in der äusseren Schlaufe `for i in range..` und in der inneren `for j in range..` verwenden, also nicht zwei Mal denselben Buchstaben)"
   ]
  },
  {
   "cell_type": "code",
   "execution_count": 27,
   "metadata": {},
   "outputs": [],
   "source": [
    "t.reset()\n",
    "myTS.colormode(255)\n",
    "# hier kommt Ihr Code hin\n"
   ]
  },
  {
   "attachments": {},
   "cell_type": "markdown",
   "metadata": {},
   "source": [
    "## Aufgabe: Kreis\n",
    "\n",
    "Jetzt gehts ans Eingemachte. Mal schauen, ob Sie diese Aufgabe lösen können. Und zwar geht es darum, einen *Kreis* zu zeichnen:\n",
    "\n",
    "<img width=\"200\" src=\"https://www.human.li/lp/img/py_kreis1.png\">"
   ]
  },
  {
   "cell_type": "code",
   "execution_count": null,
   "metadata": {},
   "outputs": [],
   "source": [
    "t.reset()\n",
    "myTS.colormode(255)\n",
    "# hier kommt Ihr Code hin"
   ]
  },
  {
   "attachments": {},
   "cell_type": "markdown",
   "metadata": {},
   "source": [
    "## Aufgabe: Kreis\n",
    "\n",
    "Beginnen Sie, indem Sie diesen gestrichelten Kreis zeichnen:\n",
    "\n",
    "<img width=\"200\" src=\"https://www.human.li/lp/img/py_kreis2.png\">"
   ]
  },
  {
   "cell_type": "code",
   "execution_count": null,
   "metadata": {},
   "outputs": [],
   "source": [
    "t.reset()\n",
    "myTS.colormode(255)\n",
    "# hier kommt Ihr Code hin\n"
   ]
  },
  {
   "cell_type": "markdown",
   "metadata": {},
   "source": [
    "Nun wollen wir die Striche aber farbig - und zwar mit Zufallsfarben.\n",
    "\n",
    "<img src=\"https://luzmedia.ch/pubfiles/it-teaching/py_l2/farbigerkreis.png\" />"
   ]
  },
  {
   "cell_type": "code",
   "execution_count": null,
   "metadata": {},
   "outputs": [],
   "source": [
    "t.reset()\n",
    "myTS.colormode(255)\n",
    "# hier kommt Ihr Code hin\n"
   ]
  }
 ],
 "metadata": {
  "kernelspec": {
   "display_name": "Python 3",
   "language": "python",
   "name": "python3"
  },
  "language_info": {
   "codemirror_mode": {
    "name": "ipython",
    "version": 3
   },
   "file_extension": ".py",
   "mimetype": "text/x-python",
   "name": "python",
   "nbconvert_exporter": "python",
   "pygments_lexer": "ipython3",
   "version": "3.7.3"
  }
 },
 "nbformat": 4,
 "nbformat_minor": 4
}
