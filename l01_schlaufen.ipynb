{
 "cells": [
  {
   "cell_type": "markdown",
   "metadata": {},
   "source": [
    "# Ein grafischer Einstieg ins Programmieren mit Turtle"
   ]
  },
  {
   "attachments": {},
   "cell_type": "markdown",
   "metadata": {},
   "source": [
    "Um programmieren zu lernen, hilft es ungemein, die Logik zu **sehen**. Dazu brauchen wir Python und ein Modul namens Turtle.\n",
    "\n",
    "Bevor Sie loslegen können, müssen wir den Computer anweisen, die Turtlebefehle aus dem Modul bereit zu stellen. Dazu dient folgender Code."
   ]
  },
  {
   "cell_type": "code",
   "execution_count": 13,
   "metadata": {},
   "outputs": [
    {
     "data": {
      "application/vnd.jupyter.widget-view+json": {
       "model_id": "8d38cc61427440a98dc9f7591772ec39",
       "version_major": 2,
       "version_minor": 0
      },
      "text/plain": [
       "Canvas(height=600, width=800)"
      ]
     },
     "metadata": {},
     "output_type": "display_data"
    }
   ],
   "source": [
    "import ipyturtle3 as turtle\n",
    "myCanvas=turtle.Canvas(width=800,height=600)\n",
    "display(myCanvas)\n",
    "myTS=turtle.TurtleScreen(myCanvas)\n",
    "myTS.clear()\n",
    "t=turtle.Turtle(myTS)\n",
    "t.clear()"
   ]
  },
  {
   "attachments": {},
   "cell_type": "markdown",
   "metadata": {},
   "source": [
    "Der Pfeil ist also unsere Turtle namens \"t\". Mit `t.forward(100)` bewegt sich die Turtle um `100` Schritte vorwärts, mit `t.left(90)` dreht sie um `90` Grad nach links und mit `t.right(90)` dreht sie um `90` Grad nach rechts. Mit diesen Befehlen können Sie die Turtle steuern.\n",
    "\n",
    "t.reset() am Anfang leert einfach die Zeichnungsfläche."
   ]
  },
  {
   "cell_type": "code",
   "execution_count": 4,
   "metadata": {},
   "outputs": [
    {
     "data": {
      "application/vnd.jupyter.widget-view+json": {
       "model_id": "414846cd3f2b40ec9f5c6ff58bd6b9f1",
       "version_major": 2,
       "version_minor": 0
      },
      "text/plain": [
       "Canvas(height=300, width=500)"
      ]
     },
     "metadata": {},
     "output_type": "display_data"
    }
   ],
   "source": [
    "t.reset()\n",
    "t.forward(100)\n",
    "t.left(90)\n",
    "t.forward(50)\n",
    "t.left(90)\n",
    "t.forward(50)\n",
    "t.right(90)\n",
    "t.forward(50)"
   ]
  },
  {
   "attachments": {},
   "cell_type": "markdown",
   "metadata": {},
   "source": [
    "## Aufgabe: Dreieck"
   ]
  },
  {
   "attachments": {},
   "cell_type": "markdown",
   "metadata": {},
   "source": [
    "Versuchen Sie nun, mit Ihrer Turtle ein gleichseitiges Dreieck mit der Seitenlänge 100 zu zeichnen.\n",
    "\n",
    "![Alt text](images/Screenshot%20from%202023-03-13%2012-38-19.png)"
   ]
  },
  {
   "cell_type": "code",
   "execution_count": 3,
   "metadata": {},
   "outputs": [],
   "source": [
    "t.reset()\n",
    "# hier kommt Ihr Code hin\n"
   ]
  },
  {
   "attachments": {},
   "cell_type": "markdown",
   "metadata": {},
   "source": [
    "## Aufgabe: Rückwärts"
   ]
  },
  {
   "attachments": {},
   "cell_type": "markdown",
   "metadata": {},
   "source": [
    "Die Turtle kann sich auch rückwärts bewegen. Soll sie beispielsweise 100 Schritte rückwärtsgehen, so können Sie den den Befehl back(100) verwenden:\n",
    "```\n",
    "t.forward(100)\n",
    "t.back(100)\n",
    "```\n",
    "\n",
    "Zeichne die nebenstehende Figur.\n",
    "\n",
    "![Dreizack](images/Screenshot%20from%202023-03-13%2012-45-11.png)"
   ]
  },
  {
   "cell_type": "code",
   "execution_count": 7,
   "metadata": {},
   "outputs": [
    {
     "data": {
      "application/vnd.jupyter.widget-view+json": {
       "model_id": "414846cd3f2b40ec9f5c6ff58bd6b9f1",
       "version_major": 2,
       "version_minor": 0
      },
      "text/plain": [
       "Canvas(height=300, width=500)"
      ]
     },
     "metadata": {},
     "output_type": "display_data"
    }
   ],
   "source": [
    "t.reset()\n",
    "# hier kommt Ihr Code hin\n",
    "t.forward(100)\n",
    "t.back(100)"
   ]
  },
  {
   "attachments": {},
   "cell_type": "markdown",
   "metadata": {},
   "source": [
    "## Aufgabe: Figur nachzeichnen"
   ]
  },
  {
   "attachments": {},
   "cell_type": "markdown",
   "metadata": {},
   "source": [
    "Zeichne die nebenstehende Figur.\n",
    "\n",
    "![Zacken](images/Screenshot%20from%202023-03-13%2012-46-31.png)"
   ]
  },
  {
   "cell_type": "code",
   "execution_count": 4,
   "metadata": {},
   "outputs": [],
   "source": [
    "t.reset()\n",
    "# hier kommt Ihr Code hin\n"
   ]
  },
  {
   "attachments": {},
   "cell_type": "markdown",
   "metadata": {},
   "source": [
    "## Aufgabe: Figur nachzeichnen"
   ]
  },
  {
   "attachments": {},
   "cell_type": "markdown",
   "metadata": {},
   "source": [
    "Zeichnen Sie diese Figur. Die langen Striche sind 100 Einheiten lang, die kürzeren 50.\n",
    "\n",
    "![Alt text](images/Screenshot%20from%202023-03-13%2012-50-28.png)"
   ]
  },
  {
   "cell_type": "code",
   "execution_count": 15,
   "metadata": {},
   "outputs": [],
   "source": [
    "t.reset()\n",
    "# hier kommt Ihr Code hin"
   ]
  },
  {
   "attachments": {},
   "cell_type": "markdown",
   "metadata": {},
   "source": [
    "## Aufgabe: Quadrat"
   ]
  },
  {
   "attachments": {},
   "cell_type": "markdown",
   "metadata": {},
   "source": [
    "Zeichnen Sie ein Quadrat.\n",
    "\n",
    "![Alt text](images/Screenshot%20from%202023-03-13%2012-52-35.png)"
   ]
  },
  {
   "cell_type": "code",
   "execution_count": 4,
   "metadata": {},
   "outputs": [],
   "source": [
    "t.reset()\n",
    "# hier kommt Ihr Code hin\n"
   ]
  },
  {
   "attachments": {},
   "cell_type": "markdown",
   "metadata": {},
   "source": [
    "## Aufgabe: Fünfeck"
   ]
  },
  {
   "attachments": {},
   "cell_type": "markdown",
   "metadata": {},
   "source": [
    "Zeichnen Sie ein Fünfeck.\n",
    "\n",
    "![Alt text](images/Screenshot%20from%202023-03-13%2012-55-15.png)"
   ]
  },
  {
   "cell_type": "code",
   "execution_count": 4,
   "metadata": {},
   "outputs": [],
   "source": [
    "t.reset()\n",
    "# hier kommt Ihr Code hin\n"
   ]
  },
  {
   "attachments": {},
   "cell_type": "markdown",
   "metadata": {},
   "source": [
    "## Aufgabe: Sechseck"
   ]
  },
  {
   "attachments": {},
   "cell_type": "markdown",
   "metadata": {},
   "source": [
    "Zeichnen Sie ein Sechseck.\n",
    "\n",
    "![Alt text](images/Screenshot%20from%202023-03-13%2012-56-22.png)"
   ]
  },
  {
   "cell_type": "code",
   "execution_count": 4,
   "metadata": {},
   "outputs": [],
   "source": [
    "t.reset()\n",
    "# hier kommt Ihr Code hin\n"
   ]
  },
  {
   "attachments": {},
   "cell_type": "markdown",
   "metadata": {},
   "source": [
    "# Schleifen, also wiederholt etwas machen"
   ]
  },
  {
   "attachments": {},
   "cell_type": "markdown",
   "metadata": {},
   "source": [
    "So, nun lernen wir das erste mächtige Werkzeuge kennen, das Computer so unheimlich schnell macht: Schleifen.\n",
    "\n",
    "Um ein Quadrat zu zeichnen, muss die Turtle vier Mal die Befehle forward(100) und left(90) ausführen. Das kann man mit Schleifen sehr viel eleganter lösen:"
   ]
  },
  {
   "cell_type": "code",
   "execution_count": 25,
   "metadata": {
    "scrolled": true
   },
   "outputs": [
    {
     "data": {
      "application/vnd.jupyter.widget-view+json": {
       "model_id": "8d38cc61427440a98dc9f7591772ec39",
       "version_major": 2,
       "version_minor": 0
      },
      "text/plain": [
       "Canvas(height=600, width=800)"
      ]
     },
     "metadata": {},
     "output_type": "display_data"
    },
    {
     "name": "stdout",
     "output_type": "stream",
     "text": [
      "Anfang\n",
      "Seite 0\n",
      "Seite 1\n",
      "Seite 2\n",
      "Seite 3\n",
      "Ende\n"
     ]
    }
   ],
   "source": [
    "t.reset()\n",
    "print (\"Anfang\")\n",
    "for i in range (4):\n",
    "    print (\"Seite\",i)\n",
    "    t.forward(50)\n",
    "    t.right(90)\n",
    "print (\"Ende\")"
   ]
  },
  {
   "cell_type": "markdown",
   "metadata": {},
   "source": [
    "> Schauen Sie sich oberhalb die Ausgabe an. Erennen Sie warum was wie oft dasteht?"
   ]
  },
  {
   "attachments": {},
   "cell_type": "markdown",
   "metadata": {},
   "source": [
    "Dasselbe, ohne unnötige print-Statements:"
   ]
  },
  {
   "cell_type": "code",
   "execution_count": null,
   "metadata": {},
   "outputs": [],
   "source": [
    "t.reset()\n",
    "for i in range (4):\n",
    "    t.forward(50)\n",
    "    t.right(90)"
   ]
  },
  {
   "attachments": {},
   "cell_type": "markdown",
   "metadata": {},
   "source": [
    "Die Wiederholung wird mit `for i in range(4):` eingeleitet. Dabei ist der Doppelpunkt sehr wichtig. Auch die Befehle im nachfolgenden Programmblock, die Sie wiederholen wollen, müssen Sie gleichweit einrücken. Benutzen Sie dazu die Tabulator-Taste. \n",
    "\n",
    "Wenn Sie diese Notation nicht richtig schreiben, ergibt das bei der Programmausführung einen \"Syntax\"-Error. Das ist wie ein Grammatik-Fehler: Sie verletzen damit die Regeln der Sprache.\n",
    "\n",
    "Ok. Versuchen Sie das mit einer weiteren Figur gleich selbst. Führen Sie dazu folgenden Code aus:"
   ]
  },
  {
   "cell_type": "code",
   "execution_count": 19,
   "metadata": {},
   "outputs": [],
   "source": [
    "t.reset()\n",
    "t.forward(50)\n",
    "t.right(120)\n",
    "t.forward(50)\n",
    "t.right(120)\n",
    "t.forward(50)\n",
    "t.right(120)"
   ]
  },
  {
   "attachments": {},
   "cell_type": "markdown",
   "metadata": {},
   "source": [
    "Bauen Sie nun mit Hilfe einer Schleife dieselbe Figur:\n"
   ]
  },
  {
   "cell_type": "code",
   "execution_count": 7,
   "metadata": {},
   "outputs": [
    {
     "name": "stdout",
     "output_type": "stream",
     "text": [
      "Durchlaufen  0\n",
      "Durchlaufen  1\n",
      "Durchlaufen  2\n",
      "Durchlaufen  3\n"
     ]
    }
   ],
   "source": [
    "t.reset()\n",
    "for i in range (4):\n",
    "    print (\"Durchlaufen\", i)"
   ]
  },
  {
   "attachments": {},
   "cell_type": "markdown",
   "metadata": {},
   "source": [
    "## Aufgabe: Sechseck bauen mit Schleife\n",
    "<img src=\"https://human.li/lp/img/py_sechseck.png\">"
   ]
  },
  {
   "cell_type": "code",
   "execution_count": 23,
   "metadata": {},
   "outputs": [],
   "source": [
    "t.reset()\n",
    "# hierhin kommt Ihr Code\n"
   ]
  },
  {
   "attachments": {},
   "cell_type": "markdown",
   "metadata": {},
   "source": [
    "## Aufgabe: Fünfeck bauen, mit Schleife\n",
    "<img src=\"https://human.li/lp/img/py_5eck0.png\">"
   ]
  },
  {
   "cell_type": "code",
   "execution_count": 23,
   "metadata": {},
   "outputs": [],
   "source": [
    "t.reset()\n",
    "# hierhin kommt Ihr Code\n"
   ]
  },
  {
   "attachments": {},
   "cell_type": "markdown",
   "metadata": {},
   "source": [
    "## Aufgabe: Stern bauen, mit Schleife\n",
    "\n",
    "<img src=\"https://human.li/lp/img/py_5stern.png\">"
   ]
  },
  {
   "cell_type": "code",
   "execution_count": 23,
   "metadata": {},
   "outputs": [],
   "source": [
    "t.reset()\n",
    "# hierhin kommt Ihr Code\n"
   ]
  },
  {
   "attachments": {},
   "cell_type": "markdown",
   "metadata": {},
   "source": [
    "## Aufgabe: Stern bauen, mit Schleife\n",
    "\n",
    "<img src=\"https://human.li/lp/img/py_9stern.png\">"
   ]
  },
  {
   "cell_type": "code",
   "execution_count": 23,
   "metadata": {},
   "outputs": [],
   "source": [
    "t.reset()\n",
    "# hierhin kommt Ihr Code\n"
   ]
  },
  {
   "attachments": {},
   "cell_type": "markdown",
   "metadata": {},
   "source": [
    "## Aufgabe: Stufen\n",
    "\n",
    "> Bauen Sie diese Treppe mit 7 Stufen einmal nach rechts oben und einmal nach links oben\n",
    "\n",
    "<img width=\"200\" src=\"https://human.li/lp/img/py_trepp1.png\">"
   ]
  },
  {
   "cell_type": "code",
   "execution_count": 23,
   "metadata": {},
   "outputs": [],
   "source": [
    "t.reset()\n",
    "# hierhin kommt Ihr Code\n"
   ]
  },
  {
   "cell_type": "code",
   "execution_count": 23,
   "metadata": {},
   "outputs": [],
   "source": [
    "t.reset()\n",
    "# hierhin kommt Ihr Code\n"
   ]
  },
  {
   "attachments": {},
   "cell_type": "markdown",
   "metadata": {},
   "source": [
    "## Aufgabe: Figur, 9 Zacken\n",
    "Bauen Sie die folgende Figur nach mit Hilfe einer Schleife\n",
    "\n",
    "<img width=\"150\" src=\"https://human.li/lp/img/py_blume_strich.png\">"
   ]
  },
  {
   "cell_type": "code",
   "execution_count": 33,
   "metadata": {},
   "outputs": [],
   "source": [
    "t.reset()\n",
    "# hierhin kommt Ihr Code\n"
   ]
  },
  {
   "attachments": {},
   "cell_type": "markdown",
   "metadata": {},
   "source": [
    "## Aufgabe: Figur, 9 Ecken\n",
    "Bauen Sie die folgende Figur nach mit Hilfe einer Schleife\n",
    "\n",
    "<img width=\"150\" src=\"https://human.li/lp/img/py_9eck.png\">"
   ]
  },
  {
   "cell_type": "code",
   "execution_count": 33,
   "metadata": {},
   "outputs": [],
   "source": [
    "t.reset()\n",
    "# hierhin kommt Ihr Code\n"
   ]
  },
  {
   "attachments": {},
   "cell_type": "markdown",
   "metadata": {},
   "source": [
    "# Verschachtelte Schleifen\n",
    "\n",
    "Anspruchsvoll wird es, wenn Sie zwei Schleifen ineinander verschachteln. Versuchen Sie selbst nachzuvollziehen, wann und wieso in folgendem Code welche print-Statements ausgeführt werden."
   ]
  },
  {
   "cell_type": "code",
   "execution_count": null,
   "metadata": {},
   "outputs": [],
   "source": [
    "for i in range(5):\n",
    "    print(\"Erste Ebene\",i)\n",
    "    for j in range(5):\n",
    "        print(\"Erste Ebene\",i,\"Zweite Ebene\",j)"
   ]
  },
  {
   "attachments": {},
   "cell_type": "markdown",
   "metadata": {},
   "source": [
    "Sie sehen: Die Abfolge ist sequentiell logisch. \n",
    "\n",
    "Innerhalb des ersten Durchlaufs der ersten Ebene, stecken vier Durchläufe der zweiten Ebene.\n",
    "Innerhalb des zweiten Durchlaufs der ersten Ebene, stecken erneut vier Durchläufe der zweiten Ebene.\n",
    "...\n",
    "\n",
    "Überlegen Sie sich folgende Frage: Wie oft wird die zweite Ebene insgesamt durchlaufen?\n",
    "\n",
    "## Mehrere Quadrate mit verschachtelten Schleifen\n",
    "\n",
    "Ok, wenden wir das auf unsere Figuren an. In diesem Beispiel zeichnet die innere Schleife ein einzelnes Quadrat und die Turtle befindet sich nachher wieder in der linken unteren Ecke des Quadrats. Sie wird dann in der äusseren Schleife verschoben und das Quadrat wird beim nächsten Durchgang erneut gezeichnet.\n",
    "\n",
    "Beachten Sie: die Laufvariablen `i` und `j` sind etwas das Sie selbst bestimmen dürfen. Es müssen zwingend *unterschiedliche* Buchstaben sein!"
   ]
  },
  {
   "cell_type": "code",
   "execution_count": 28,
   "metadata": {},
   "outputs": [],
   "source": [
    "t.reset()\n",
    "\n",
    "for i in range(4):\n",
    "    for j in range(4):\n",
    "        t.forward(20)\n",
    "        t.right(90)\n",
    "    t.forward(20)"
   ]
  },
  {
   "attachments": {},
   "cell_type": "markdown",
   "metadata": {},
   "source": [
    "## Anpassen der Schleife\n",
    "\n",
    "Passen Sie die folgende Schleifen an, dass sechs Stufen erstellt werden statt vier."
   ]
  },
  {
   "cell_type": "code",
   "execution_count": 38,
   "metadata": {},
   "outputs": [],
   "source": [
    "t.reset()\n",
    "\n",
    "for i in range(4):\n",
    "    for j in range(4):\n",
    "        t.forward(20)\n",
    "        t.right(90)\n",
    "    t.forward(20)"
   ]
  },
  {
   "attachments": {},
   "cell_type": "markdown",
   "metadata": {},
   "source": [
    "## Anpassen der Schleife\n",
    "\n",
    "Passen Sie die folgende Schleife an, so dass 6 Stufen erstellt werden, diese sollen aber 30 Einheiten lang sein und die Schiene soll nach rechts, statt nach oben zeigen"
   ]
  },
  {
   "cell_type": "code",
   "execution_count": 38,
   "metadata": {},
   "outputs": [],
   "source": [
    "t.reset()\n",
    "\n",
    "for i in range(4):\n",
    "    for j in range(4):\n",
    "        t.forward(20)\n",
    "        t.right(90)\n",
    "    t.forward(20)"
   ]
  },
  {
   "attachments": {},
   "cell_type": "markdown",
   "metadata": {},
   "source": [
    "## Aufgabe: Schiene aus Rechtecken\n",
    "Bauen Sie folgende Figur mithilfe verschachtelter Schleifen\n",
    "\n",
    "<img width=\"150\"  src=\"https://human.li/lp/img/py_schiene2_quer.png\">"
   ]
  },
  {
   "cell_type": "code",
   "execution_count": 33,
   "metadata": {},
   "outputs": [],
   "source": [
    "t.reset()\n",
    "# hierhin kommt Ihr Code\n"
   ]
  }
 ],
 "metadata": {
  "kernelspec": {
   "display_name": "Python 3 (ipykernel)",
   "language": "python",
   "name": "python3"
  },
  "language_info": {
   "codemirror_mode": {
    "name": "ipython",
    "version": 3
   },
   "file_extension": ".py",
   "mimetype": "text/x-python",
   "name": "python",
   "nbconvert_exporter": "python",
   "pygments_lexer": "ipython3",
   "version": "3.10.7"
  }
 },
 "nbformat": 4,
 "nbformat_minor": 4
}
