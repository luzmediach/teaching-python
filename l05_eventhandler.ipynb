{
 "cells": [
  {
   "cell_type": "markdown",
   "metadata": {},
   "source": [
    "Führen Sie zunächst wieder diesen Code aus, um das Notebook zu initialisieren."
   ]
  },
  {
   "cell_type": "code",
   "execution_count": 92,
   "metadata": {},
   "outputs": [
    {
     "data": {
      "application/vnd.jupyter.widget-view+json": {
       "model_id": "7fe9ea0c6c2a4d13b0fcbfcecd92efad",
       "version_major": 2,
       "version_minor": 0
      },
      "text/plain": [
       "Canvas(height=600, width=800)"
      ]
     },
     "metadata": {},
     "output_type": "display_data"
    }
   ],
   "source": [
    "import ipyturtle3 as turtle\n",
    "myCanvas=turtle.Canvas(width=800,height=600)\n",
    "display(myCanvas)\n",
    "myTS=turtle.TurtleScreen(myCanvas)\n",
    "myTS.colormode(255)\n",
    "myTS.clear()\n",
    "t=turtle.Turtle(myTS)\n",
    "t.clear()"
   ]
  },
  {
   "attachments": {},
   "cell_type": "markdown",
   "metadata": {},
   "source": [
    "Sogenannte \"Event handler\" oder \"Callbacks\" gibt es in vielen Programmiersprachen. Die Grundidee ist, dass man definieren kann, dass wenn X passiert, die Funktion Y aufgerufen wird.\n",
    "\n",
    "Wir möchten, dass wenn wir mit der Maus auf die Leinwand unserer Turtle klicken, eine Funktion aufgerufen wird, die unsere Turtle dorthin steuert. Ich habe Ihnen hier rudimentären Code geschrieben, der ein Event/Callback an unsere Leinwand `myCanvas` hängt, dass wenn sie angeklickt und die Maustaste losgelassen wird (`on_mouse_up`), die Funktion `moveturtle()`  ausgeführt wird.\n",
    "\n",
    "Sie sehen selbst, der Event/Callback bringt mit sich zwei Parameter `x` und `y`. Als ersten Schritt empfehle ich, mit einem `print()` in der Funktion zu untersuchen, was in `x` und `y` genau drin ist.\n",
    "\n",
    "Sie werden folgende Methoden gebrauchen: \n",
    "* `t.setheading()` setzt die Orientierung der Turtle in **absouten, anstatt relativen Winkeln**.\n",
    "* `t.towards(x, y)`gibt Ihnen den **absoluten** Winkel von der aktuellen Position zu einer Position x,y"
   ]
  },
  {
   "cell_type": "code",
   "execution_count": 97,
   "metadata": {},
   "outputs": [],
   "source": [
    "t.reset()\n",
    "myCanvas._mouse_up_callbacks.callbacks = [] # Löscht alle Callbacks, die an den Event \"on_mouse_up\" geklebt sind\n",
    "\n",
    "# Erweitern Sie diesen Code\n",
    "def moveturtle(x,y):\n",
    "    t.forward(10)\n",
    "\n",
    "# Diese Linie hier \"klebt\" unsere Funktion moveturtle an den Event \"on_mouse_up\", also wenn ein Mausklick losgelassen wird\n",
    "myCanvas.on_mouse_up(moveturtle)"
   ]
  }
 ],
 "metadata": {
  "kernelspec": {
   "display_name": "Python 3 (ipykernel)",
   "language": "python",
   "name": "python3"
  },
  "language_info": {
   "codemirror_mode": {
    "name": "ipython",
    "version": 3
   },
   "file_extension": ".py",
   "mimetype": "text/x-python",
   "name": "python",
   "nbconvert_exporter": "python",
   "pygments_lexer": "ipython3",
   "version": "3.10.2"
  }
 },
 "nbformat": 4,
 "nbformat_minor": 4
}
