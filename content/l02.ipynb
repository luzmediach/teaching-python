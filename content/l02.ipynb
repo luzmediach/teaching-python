{
 "cells": [
  {
   "cell_type": "markdown",
   "metadata": {},
   "source": [
    "# Turtle\n",
    "\n",
    "Übersicht über die wichtigsten Befehle:\n",
    "- "
   ]
  },
  {
   "cell_type": "markdown",
   "metadata": {},
   "source": [
    "- `reset()` setzt die Turtle wieder in die Mitte des leeren Zeichenfelds\n",
    "- `forward(50)` bewegt die die Turtle 50 Einheiten nach vorne, `back(50)` wäre das Gegenstück dazu und lässt die Turtle rückwärts laufen\n",
    "- `left(90)` und `right(60)` dreht die Turtle um eine bestimmte Anzahl Grad nach links oder rechts\n",
    "- `back(20)` 20 Einheiten rückwärts\n",
    "- `penup()` hebt den Zeichenstift an, und das Gegenstrück `pendown()` setzt ihn wieder ab, so dass erneut eine Spur zurückbleibt, wenn die Turtle sich bewegt"
   ]
  },
  {
   "cell_type": "markdown",
   "metadata": {},
   "source": [
    "# <font color=\"#d83931\">Eine</font> <font color=\"#00b050\">farbige</font> <font color=\"#0070c0\">Repetition</font>\n",
    "\n",
    "Bringen wir für diese Repetition etwas Farbe ins Spiel!\n",
    "- `pencolor(ROT, GRÜN, BLAU)` setzt die Farbe des Stifts. Statt `ROT` muss eine Zahl zwischen `0` und `255` gesetzt werden, die dem Anteil der Farbe Rot an der Gesamtmischung entspricht. Dasselbe gilt für `GRÜN` und `BLAU`. Wollen Sie eine konkrete Farbe, so können Sie z.B. [colorspire.com](https://www.colorspire.com/rgb-color-wheel/) nutzen um die drei Zahlen zu finden\n",
    "\n",
    "Die folgende Zeile müssen Sie nur __ein einziges Mal__ ausführen:"
   ]
  },
  {
   "cell_type": "code",
   "execution_count": 2,
   "metadata": {},
   "outputs": [
    {
     "data": {
      "application/vnd.jupyter.widget-view+json": {
       "model_id": "a9af0cd7c9c842a3b9f28f88af51c95b",
       "version_major": 2,
       "version_minor": 0
      },
      "text/plain": [
       "Turtle()"
      ]
     },
     "metadata": {},
     "output_type": "display_data"
    }
   ],
   "source": [
    "from ipyturtle import *\n",
    "t = Turtle()\n",
    "t"
   ]
  },
  {
   "cell_type": "markdown",
   "metadata": {},
   "source": [
    "Danach können Sie die Turtle folgendermassen zum Ursprung bewegen (`reset()`) und somit eine neue Aufgabe beginnen. Eventuell müssen Sie die Farbe wieder auf schwarz stellen):"
   ]
  },
  {
   "cell_type": "code",
   "execution_count": 22,
   "metadata": {},
   "outputs": [],
   "source": [
    "t.reset()\n",
    "t.pencolor(0,0,0)"
   ]
  },
  {
   "cell_type": "markdown",
   "metadata": {},
   "source": [
    "Beispielzeichnung"
   ]
  },
  {
   "cell_type": "code",
   "execution_count": 8,
   "metadata": {},
   "outputs": [],
   "source": [
    "t.reset()\n",
    "t.hideturtle()\n",
    "t.forward(50)\n",
    "t.showturtle()\n",
    "t.penup()\n",
    "t.left(90)\n",
    "t.right(180)\n",
    "t.back(20)\n",
    "t.pendown()\n",
    "t.pencolor(255,0,0)\n",
    "t.forward(40)\n",
    "t.pencolor(0,0,0)"
   ]
  },
  {
   "cell_type": "markdown",
   "metadata": {},
   "source": [
    "##### -- Aufgabe: Kreis 1\n",
    "\n",
    "> Zeichnen Sie diesen Kreis, aber gern <font color=\"#245bdb\">**in blau**</font>:\n",
    "\n",
    "<img width=\"200\" src=\"https://www.human.li/lp/img/py_kreis1.png\">"
   ]
  },
  {
   "cell_type": "code",
   "execution_count": 27,
   "metadata": {},
   "outputs": [],
   "source": [
    "t.reset()\n",
    "# hier kommt Ihr Code hin"
   ]
  },
  {
   "cell_type": "code",
   "execution_count": 67,
   "metadata": {},
   "outputs": [],
   "source": [
    "# delme\n",
    "t.reset()\n",
    "t.pencolor(0,0,255)\n",
    "for i in range(120):\n",
    "    t.forward(3)\n",
    "    t.right(3)"
   ]
  },
  {
   "cell_type": "markdown",
   "metadata": {},
   "source": [
    "##### -- Aufgabe: Kreis 2\n",
    "\n",
    "> Beginnen Sie, indem Sie diesen gestrichelten Kreis zeichnen:\n",
    "\n",
    "<img width=\"200\" src=\"https://www.human.li/lp/img/py_kreis2.png\">"
   ]
  },
  {
   "cell_type": "code",
   "execution_count": 27,
   "metadata": {},
   "outputs": [],
   "source": [
    "t.reset()\n",
    "# hier kommt Ihr Code hin\n"
   ]
  },
  {
   "cell_type": "code",
   "execution_count": null,
   "metadata": {},
   "outputs": [],
   "source": [
    "# delme\n",
    "t.reset()\n",
    "t.pencolor(0,0,0)\n",
    "for i in range(60):\n",
    "    t.penup()\n",
    "    t.forward(3)\n",
    "    t.right(3)\n",
    "    t.pendown()\n",
    "    t.forward(3)\n",
    "    t.right(3)"
   ]
  },
  {
   "cell_type": "markdown",
   "metadata": {},
   "source": [
    "Nun wollen wir die Striche aber farbig - und zwar mit Zufallsfarben.\n",
    "\n",
    "<img src=\"https://luzmedia.ch/pubfiles/it-teaching/py_l2/farbigerkreis.png\" />\n",
    "\n",
    "Dazu importieren wir eine Zufallsfunktion des Moduls \"random\". Sie können mit der Funktion `randint(0,255)` eine Zufallszahl zwischen 0 und 255 erzeugen."
   ]
  },
  {
   "cell_type": "code",
   "execution_count": 72,
   "metadata": {},
   "outputs": [
    {
     "data": {
      "text/plain": [
       "244"
      ]
     },
     "execution_count": 72,
     "metadata": {},
     "output_type": "execute_result"
    }
   ],
   "source": [
    "# Führen Sie diese Zelle einige Male aus, so sehen Sie, dass hier Zufallszahlen entstehen.\n",
    "from random import randint\n",
    "randint(0,255)"
   ]
  },
  {
   "cell_type": "markdown",
   "metadata": {},
   "source": [
    "Überlegen Sie sich, wie man daraus eine zufällige Farbe machen könnte, und erweitern Sie Ihren Code des gestrichelten Kreises, damit jeder Strich zufällig eine andere Farbe hat."
   ]
  },
  {
   "cell_type": "code",
   "execution_count": 24,
   "metadata": {},
   "outputs": [],
   "source": [
    "# delme\n",
    "from random import randint\n",
    "\n",
    "t.reset()\n",
    "t.pencolor(0,0,0)\n",
    "for i in range(60):\n",
    "    t.penup()\n",
    "    t.pencolor(randint(0, 255),randint(0, 255),randint(0, 255))\n",
    "    t.forward(3)\n",
    "    t.right(3)\n",
    "    t.pendown()\n",
    "    t.forward(3)\n",
    "    t.right(3)"
   ]
  },
  {
   "cell_type": "markdown",
   "metadata": {},
   "source": [
    "##### -- Aufgabe: Treppe - aber diesmal farbig\n",
    "\n",
    "> Bauen Sie diese Treppe mit 8 Stufen und Stufenlänge 10\n",
    "\n",
    "<img width=\"200\" src=\"https://luzmedia.ch/pubfiles/it-teaching/py_l2/farbigetreppe.png\">"
   ]
  },
  {
   "cell_type": "code",
   "execution_count": 27,
   "metadata": {},
   "outputs": [],
   "source": [
    "t.reset()\n",
    "# hier kommt Ihr Code hin\n"
   ]
  },
  {
   "cell_type": "code",
   "execution_count": 27,
   "metadata": {},
   "outputs": [],
   "source": [
    "# delme\n",
    "t.reset()\n",
    "t.pencolor(0,0,0)\n",
    "for i in range(8):\n",
    "    t.pencolor(randint(0, 255),randint(0, 255),randint(0, 255))\n",
    "    t.forward(10)\n",
    "    t.right(90)\n",
    "    t.forward(10)\n",
    "    t.left(90)"
   ]
  },
  {
   "cell_type": "markdown",
   "metadata": {},
   "source": [
    "##### -- Aufgabe: Farbige Schiene\n",
    "\n",
    "> Bauen Sie diese Schiene mit 10 Quadraten mit Seitenlänge 10, wobei jedes Quadrat wieder eine neue Zufallsfarbe hat\n",
    "\n",
    "<img width=\"300\" src=\"https://luzmedia.ch/pubfiles/it-teaching/py_l2/farbigeschiene.png\">\n"
   ]
  },
  {
   "cell_type": "markdown",
   "metadata": {},
   "source": [
    "Bonuspunkte, wenn Sie das Quadrat mit einer verschachtelten, inneren Schlaufe lösen (Sie müssen dazu aber dann in der äusseren Schlaufe `for i in range..` und in der inneren `for j in range..` verwenden, also nicht zwei Mal denselben Buchstaben - einmal `i` und einmal `j`)\n",
    "```python\n",
    "for i in range (10):\n",
    "    # eventueller Code, der 10 Mal ausgeführt wird\n",
    "    for j in range (4):\n",
    "        # Code, der 10x4, also 40 Mal ausgeführt werden soll\n",
    "    # eventueller Code, der 10 Mal ausgeführt wird\n",
    "```"
   ]
  },
  {
   "cell_type": "code",
   "execution_count": 27,
   "metadata": {},
   "outputs": [],
   "source": [
    "t.reset()\n",
    "# hier kommt Ihr Code hin\n"
   ]
  },
  {
   "cell_type": "code",
   "execution_count": 29,
   "metadata": {},
   "outputs": [],
   "source": [
    "# delme\n",
    "t.reset()\n",
    "t.pencolor(0,0,0)\n",
    "t.right(90)\n",
    "for i in range(10):\n",
    "    for j in range (4):\n",
    "        t.forward(10)\n",
    "        t.right(90)\n",
    "    t.forward(10)\n",
    "    t.pencolor(randint(0, 255),randint(0, 255),randint(0, 255))"
   ]
  },
  {
   "cell_type": "markdown",
   "metadata": {},
   "source": [
    "##### -- Aufgabe: Quadrat-Kreis\n",
    "\n",
    "> Bauen Sie diese Figur mit 12 Quadraten mit Seitenlänge 50\n",
    "\n",
    "<img width=\"300\" src=\"https://luzmedia.ch/pubfiles/it-teaching/py_l2/farbigerquadratkreis.png\">\n",
    "\n",
    "Bonuspunkte, wenn Sie das Quadrat ebenfalls mit einer verschachtelten, inneren Schlaufe lösen (Sie müssen dazu aber dann in der äusseren Schlaufe `for i in range..` und in der inneren `for j in range..` verwenden, also nicht zwei Mal denselben Buchstaben)"
   ]
  },
  {
   "cell_type": "code",
   "execution_count": 27,
   "metadata": {},
   "outputs": [],
   "source": [
    "t.reset()\n",
    "# hier kommt Ihr Code hin\n"
   ]
  },
  {
   "cell_type": "code",
   "execution_count": 31,
   "metadata": {},
   "outputs": [],
   "source": [
    "# delme\n",
    "t.reset()\n",
    "t.pencolor(0,0,0)\n",
    "t.right(90)\n",
    "for i in range(12):\n",
    "    for j in range (4):\n",
    "        t.forward(50)\n",
    "        t.right(90)\n",
    "    t.right(30)\n",
    "    t.pencolor(randint(0, 255),randint(0, 255),randint(0, 255))"
   ]
  },
  {
   "cell_type": "markdown",
   "metadata": {},
   "source": [
    "# Funktionen\n",
    "\n",
    "Es sollte eine Funktion geben `quadrat()`, die Sie aufrufen können und sich so auf wiederholt verwendete Abläufe mit Namen zu beziehen.\n",
    "\n",
    "\n",
    "<table border=\"1\" align=\"left\" >\n",
    "<tr><td style=\"text-align: center\">Ohne Funktion</td>\n",
    "    <td style=\"text-align: center\">Als Funktion</td>\n",
    "    <td style=\"text-align: center\">Als Funktion mit Schlaufe</td></tr>\n",
    "<tr><td style=\"text-align: left\">\n",
    "<pre>\n",
    "t.forward (20)\n",
    "t.right (90)\n",
    "t.forward (20)\n",
    "t.right (90)\n",
    "t.forward (20)\n",
    "t.right (90)\n",
    "t.forward (20)\n",
    "</pre></td>\n",
    "<td style=\"text-align: left\">\n",
    "<pre>\n",
    "def quadrat():\n",
    "    t.forward (20)\n",
    "    t.right (90)\n",
    "    t.forward (20)\n",
    "    t.right (90)\n",
    "    t.forward (20)\n",
    "    t.right (90)\n",
    "    t.forward (20)\n",
    "quadrat() \n",
    "</pre></td>\n",
    "</pre></td>\n",
    "<td style=\"text-align: left\">\n",
    "<pre>\n",
    "def quadrat():\n",
    "    for i in range (4):\n",
    "        t.forward (20)\n",
    "        t.right (90)\n",
    "quadrat()\n",
    "</pre></td>\n",
    "</tr>\n",
    "</table>"
   ]
  },
  {
   "cell_type": "markdown",
   "metadata": {},
   "source": [
    "\n",
    "> Beachten Sie\n",
    "- die Einrückung zeigt an, was zur Funktion gehört. Was zur Funktion gehört ist also eingerückt. Gehört etwas eingerücktes, wie eine Schlaufe zur Funktion, so ist diese wiederum entsprechend eingerückt. \n",
    "- eine Funktion an sich macht gar nichts, bis sie nicht aufgerufen wird (hier mit `quadrat()` unterhalb der Funktion"
   ]
  },
  {
   "cell_type": "markdown",
   "metadata": {},
   "source": [
    "Probieren Sie es aus:"
   ]
  },
  {
   "cell_type": "code",
   "execution_count": 32,
   "metadata": {},
   "outputs": [],
   "source": [
    "t.reset()\n",
    "def quadrat():\n",
    "    for i in range (4):\n",
    "        t.forward (50)\n",
    "        t.right (90)\n",
    "quadrat()"
   ]
  },
  {
   "cell_type": "markdown",
   "metadata": {},
   "source": [
    "##### -- Aufgabe: Funktion `quadrat` benutzen für einen \"Quadrat-Kreis\"\n",
    "\n",
    "> Benutzen Sie die Funktion `quadrat`, um die obige Figur nochmals eleganter (und ohne Farbe) zu zeichnen. Sie müssen die Funktion hier nicht noch einmal hinschreiben. Es reicht, wenn sie es oben einmalig definiert haben um sie unten benutzen zu können\n",
    "\n",
    "<img width=\"300\" src=\"https://www.human.li/lp/img/py_quad1.png\">"
   ]
  },
  {
   "cell_type": "code",
   "execution_count": 27,
   "metadata": {},
   "outputs": [],
   "source": [
    "t.reset()\n",
    "# hier kommt Ihr Code hin\n"
   ]
  },
  {
   "cell_type": "code",
   "execution_count": 18,
   "metadata": {},
   "outputs": [],
   "source": [
    "# delme\n",
    "t.reset()\n",
    "t.pencolor(0,0,0)\n",
    "for j in range (12):\n",
    "    quadrat()\n",
    "    t.right(30)\n"
   ]
  },
  {
   "cell_type": "markdown",
   "metadata": {},
   "source": [
    "##### -- Aufgabe: Funktion `dreieck` und \"Dreieck-Kreis\"\n",
    "\n",
    "> Schreiben Sie zuerst eine Funktion `dreieck()`, die ein gleichseitiges 50 Pixel langes Dreieck malt\n",
    "\n",
    "> Benutzen Sie sodann Ihre Funktion um dieses 6 Mal im Kreis drehend zu zeichnen\n",
    "\n",
    "<img src=\"https://www.human.li/lp/img/py_dreieck1.png\">"
   ]
  },
  {
   "cell_type": "code",
   "execution_count": 83,
   "metadata": {},
   "outputs": [],
   "source": [
    "t.reset()\n",
    "# hier kommt Ihr Code hin, also die Funktion\n",
    "\n",
    "\n",
    "# Am Schluss müssen Sie die Funktion auch aufrufen\n",
    "dreieck()"
   ]
  },
  {
   "cell_type": "code",
   "execution_count": 73,
   "metadata": {},
   "outputs": [],
   "source": [
    "# delme\n",
    "t.reset()\n",
    "t.pencolor(0,0,0)\n",
    "def dreieck():\n",
    "    for j in range (3):\n",
    "        t.forward(50)\n",
    "        t.right(120)\n",
    "dreieck()"
   ]
  },
  {
   "cell_type": "markdown",
   "metadata": {},
   "source": [
    "##### -- Aufgabe: Funktion `dreieck` und \"Dreieck-Kreis\"\n",
    "\n",
    "> Benutzen Sie die Funktion `dreieck` wieder um daraus ein Sechseck zu bilden:\n",
    "\n",
    "<img src=\"https://www.human.li/lp/img/py_dreieck2.png\">"
   ]
  },
  {
   "cell_type": "code",
   "execution_count": 65,
   "metadata": {},
   "outputs": [],
   "source": [
    "t.reset()\n",
    "# hier kommt Ihr Code hin\n"
   ]
  },
  {
   "cell_type": "code",
   "execution_count": 33,
   "metadata": {},
   "outputs": [],
   "source": [
    "# delme\n",
    "t.reset()\n",
    "t.pencolor(0,0,0)\n",
    "def dreieck():\n",
    "    for j in range (3):\n",
    "        t.forward(50)\n",
    "        t.right(120)\n",
    "for i in range(6):\n",
    "    dreieck()\n",
    "    t.right(60)"
   ]
  },
  {
   "cell_type": "markdown",
   "metadata": {},
   "source": [
    "##### -- Aufgabe: Funktion `sechseck`\n",
    "\n",
    "> Verpacken Sie nun die obige Aufgabe in eine eigene Funktion `sechseck()` , so dass Sie diese wiederum aufrufen können um direkte diese Figur zu malen:\n",
    "<img src=\"https://www.human.li/lp/img/py_dreieck2.png\">"
   ]
  },
  {
   "cell_type": "code",
   "execution_count": 27,
   "metadata": {},
   "outputs": [],
   "source": [
    "t.reset()\n",
    "# hier kommt Ihr Code hin\n",
    "\n",
    "\n",
    "seckseck()  # ein einziger Aufruf malt obige Figur"
   ]
  },
  {
   "cell_type": "code",
   "execution_count": 80,
   "metadata": {},
   "outputs": [],
   "source": [
    "# delme\n",
    "t.reset()\n",
    "t.pencolor(0,0,0)\n",
    "def dreieck():\n",
    "    for j in range (3):\n",
    "        t.forward(30)\n",
    "        t.right(120)\n",
    "def sechseck():\n",
    "    for i in range(6):\n",
    "        dreieck()\n",
    "        t.right(60)\n",
    "for i in range(6):\n",
    "    sechseck()\n",
    "    t.forward(60)\n",
    "    t.left(60)"
   ]
  },
  {
   "cell_type": "markdown",
   "metadata": {},
   "source": [
    "# Variablen & Funktionen mit Parametern"
   ]
  },
  {
   "cell_type": "markdown",
   "metadata": {},
   "source": [
    "Das Ziel ist nun eigene Funktionen zu schreiben, die mit Parametern aufgerufen werden können. Also z.B. dass wie `forward(100)` oder `forward(50)` auch eigene Funktionen mit einem Zahlenwert funktionieren wie `dreieck(50)`, welches ein gleichseitiges Dreieck mit Seitenlänge 50 malt."
   ]
  },
  {
   "cell_type": "markdown",
   "metadata": {},
   "source": [
    "Zunächst gilt Variablen zu verstehen. Sie können sich das "
   ]
  },
  {
   "cell_type": "code",
   "execution_count": 5,
   "metadata": {},
   "outputs": [],
   "source": [
    "t.reset()\n",
    "# Hier wird eine eigene Variable erstellt mit Namen 'laenge'\n",
    "laenge = 100\n",
    "\n",
    "for j in range (3):\n",
    "    t.right(120)\n",
    "    # die Variable laenge hat den Wert 100, also wird t.forward(100) ausgeführt\n",
    "    t.forward(laenge)"
   ]
  },
  {
   "cell_type": "markdown",
   "metadata": {},
   "source": [
    "##### --- Aufgabe: Variable laenge und breite verwenden für ein Rechteck\n",
    "\n",
    "> Verändern Sie den folgenden Code analog zum Beispiel oberhalb, so dass Sie mit Variablen bestimmen können, wie lang und breit das Rechteck sein wird"
   ]
  },
  {
   "cell_type": "code",
   "execution_count": 7,
   "metadata": {},
   "outputs": [],
   "source": [
    "\n",
    "t.reset()\n",
    "for i in range (2):\n",
    "    t.forward (20)\n",
    "    t.right (90)\n",
    "    t.forward (40)\n",
    "    t.right (90)"
   ]
  },
  {
   "cell_type": "code",
   "execution_count": 8,
   "metadata": {},
   "outputs": [],
   "source": [
    "# delme\n",
    "t.reset()\n",
    "l = 40\n",
    "b = 20\n",
    "for i in range (2):\n",
    "    t.forward (l)\n",
    "    t.right (90)\n",
    "    t.forward (b)\n",
    "    t.right (90)"
   ]
  },
  {
   "cell_type": "markdown",
   "metadata": {},
   "source": [
    "\n",
    "## Funktionen mit Parametern\n",
    "\n",
    "Wie sie wahrscheinlich gemerkt haben, wäre es sehr nützlich, wenn man nicht für jede Quadratgrösse eine eigene Funktion schreiben müsste. Dies ist natürlich möglich. Wir müssen der Schildkröte nur klar machen, dass unsere gewünschte Variable später erst mit einem Zahlenwert gefüllt wird. \n",
    "```\n",
    "def quadrat2(seite):\n",
    "    for i in range(4):\n",
    "        t.forward(seite)\n",
    "        t.right(90)\n",
    "quadrat2(100)\n",
    "```\n",
    "Nun kann man in der Befehlszeile den neu geschaffenen Befehl quadrat benutzen wobei man nun zusätzlich zum Namen eine Zahl, angeben muss - die gewünschte Seitenlänge. Sie benutzen hier eine __Variable__ und nennen sie `seite`, diese kann beliebige Werte aufnehmen.\n",
    "\n",
    "```\n",
    "quadrat2 (100)  # bei diesem Aufruf landet 100 in seite und damit wird t.forward(seite) zu t.forward(100)\n",
    "quadrat2 (150)  # bei diesem Aufruf landet 150 in seite und damit wird t.forward(seite) zu t.forward(150)\n",
    "```"
   ]
  },
  {
   "cell_type": "markdown",
   "metadata": {},
   "source": [
    "##### --- Aufgabe: quadrat2 mit Seitenlänge\n",
    "\n",
    "> Schreiben Sei nun selbst die Funktion `quadrat2`, die Sie mittels `quadrat2(100)` aufrufen können, um ein Quadrat mit Seitenlänge 100 zu zeichnen. Sie dürfen die Funktion von oben kopieren - allerdings soll die Variable nicht `seite` heissen, sondern `x`\n",
    "\n",
    "> Rufen Sie es wiederholt auf, mit den Parametern 10, 20, 30, 40\n",
    "\n",
    "<img src=\"https://www.human.li/lp/img/py_quad4.png\">"
   ]
  },
  {
   "cell_type": "code",
   "execution_count": 27,
   "metadata": {},
   "outputs": [],
   "source": [
    "t.reset()\n",
    "# hier kommt Ihr Code hin, Sie dürfen von oben kopieren\n",
    "\n"
   ]
  },
  {
   "cell_type": "code",
   "execution_count": 35,
   "metadata": {},
   "outputs": [],
   "source": [
    "# delme\n",
    "t.reset()\n",
    "t.pencolor(0,0,0)\n",
    "def quadrat2(x):\n",
    "    for i in range(4):\n",
    "        t.forward(x)\n",
    "        t.right(90)\n",
    "quadrat2(10)\n",
    "quadrat2(20)\n",
    "quadrat2(30)\n",
    "quadrat2(40)"
   ]
  },
  {
   "cell_type": "markdown",
   "metadata": {},
   "source": [
    "##### --- Aufgabe: fuenfeck mit Seitenlänge\n",
    "\n",
    "> Schreiben Sei nun selbst die Funktion `fuenfeck`, die Sie mittels `fuenfeck(100)` aufrufen können, um ein Fünfeck mit Seitenlänge 100 zu zeichnen\n",
    "\n",
    "> Rufen Sie es auch wiederholt auf, mit den Parametern 10, 20, 30, 40\n",
    "\n",
    "<img src=\"https://www.human.li/lp/img/py_5eck.png\">"
   ]
  },
  {
   "cell_type": "code",
   "execution_count": 27,
   "metadata": {},
   "outputs": [],
   "source": [
    "t.reset()\n",
    "# hier kommt Ihr Code hin\n",
    "\n"
   ]
  },
  {
   "cell_type": "code",
   "execution_count": 9,
   "metadata": {},
   "outputs": [],
   "source": [
    "# delme\n",
    "t.reset()\n",
    "t.pencolor(0,0,0)\n",
    "def fuenfeck(s):\n",
    "    for i in range(5):\n",
    "        t.forward(s)\n",
    "        t.right(72)\n",
    "fuenfeck(10)\n",
    "fuenfeck(20)\n",
    "fuenfeck(30)\n",
    "fuenfeck(40)"
   ]
  },
  {
   "cell_type": "markdown",
   "metadata": {},
   "source": [
    "##### --- Aufgabe: dreieck2 mit Seitenlänge und Farbe\n",
    "\n",
    "> Funktionen können mehr als nur ein Parameter haben. Schreiben Sei nun selbst die Funktion `dreieck2`, die Sie mittels `dreieck2(länge, rot, grün, blau)` aufrufen können. Für ein grünes Dreieck mit Seitenlänge 100 wäre das also `dreieck2(100, 0, 255, 0)`\n",
    "\n",
    "> Rufen Sie die Funktion wiederholt auf, um diese Figur zu erzeugen:\n",
    "\n",
    "<img src=\"https://luzmedia.ch/pubfiles/it-teaching/py_l2/funktionen_farbigedreiecke.png\">\n",
    "\n",
    "Bemerkung: Das kleinste Dreieck ist weiss, dann rot, blau und grün."
   ]
  },
  {
   "cell_type": "code",
   "execution_count": 27,
   "metadata": {},
   "outputs": [],
   "source": [
    "t.reset()\n",
    "# hier kommt Ihr Code hin\n",
    "\n"
   ]
  },
  {
   "cell_type": "code",
   "execution_count": 65,
   "metadata": {},
   "outputs": [],
   "source": [
    "# delme\n",
    "t.reset()\n",
    "t.pencolor(0,0,0)\n",
    "def dreieck2(s, r, g, b):\n",
    "    for i in range(3):\n",
    "        t.pencolor(r,g,b)\n",
    "        t.forward(s)\n",
    "        t.right(120)\n",
    "dreieck2(10, 255, 255, 255)\n",
    "dreieck2(20, 255, 0, 0)\n",
    "dreieck2(50, 0, 0, 255)\n",
    "dreieck2(100, 0, 255, 0)"
   ]
  },
  {
   "cell_type": "markdown",
   "metadata": {},
   "source": [
    "##### --- Aufgabe: quadrat2 benutzen\n",
    "\n",
    "> Benutzen Sie Ihre `quadrat2` Funktion, um die Schiene mit flexibler Grösse zeichnen zu lassen\n",
    "\n",
    "<img src=\"https://www.human.li/lp/img/py_schiene.png\">\n",
    "\n",
    "Zusatzaufgabe: bauen Sie eine Funktion `schiene(x)` das die Seitenlänge an die Funktion `quadrat2(x)` durchreicht, das Sie aus der Funktion `schiene` heraus wiederholt aufrufen"
   ]
  },
  {
   "cell_type": "code",
   "execution_count": 11,
   "metadata": {},
   "outputs": [],
   "source": [
    "t.reset()\n",
    "# Einfachere Variante:\n",
    "for i in range(10):\n",
    "    # hier kommt Ihr Code hin"
   ]
  },
  {
   "cell_type": "code",
   "execution_count": 27,
   "metadata": {},
   "outputs": [],
   "source": [
    "t.reset()\n",
    "# Komplexere Variante:\n",
    "def schiene (x):\n",
    "    # hier kommt Ihr Code hin\n",
    "\n",
    "schiene(20)"
   ]
  },
  {
   "cell_type": "code",
   "execution_count": 66,
   "metadata": {},
   "outputs": [],
   "source": [
    "# delme\n",
    "t.reset()\n",
    "t.pencolor(0,0,0)\n",
    "t.penup()\n",
    "t.left(90)\n",
    "t.forward(100)\n",
    "t.right(180)\n",
    "t.pendown()\n",
    "def schiene (l):\n",
    "    for i in range(10):\n",
    "        quadrat2(l)\n",
    "        t.forward(l)\n",
    "schiene(20)"
   ]
  },
  {
   "cell_type": "markdown",
   "metadata": {},
   "source": [
    "##### --- Aufgabe: rechteck mit zwei Parametern\n",
    "\n",
    "> Schreiben Sei nun die Funktion `rechteck`, mit der Sie mittels `rechteck(100, 60)` ein Rechteck mit Länge 100 und Breite 60 zeichnen\n",
    "\n",
    "```\n",
    "def rechteck(laenge, breite):\n",
    "```"
   ]
  },
  {
   "cell_type": "code",
   "execution_count": 37,
   "metadata": {},
   "outputs": [],
   "source": [
    "t.reset()\n",
    "# hier kommt Ihr Code hin\n",
    "def rechteck(laenge, breite):\n",
    "    for i in range(2):\n",
    "        # hier müssen Sie noch etwas anpassen, so dass die Variablen laenge und breite funktionieren\n",
    "        t.forward(100)\n",
    "        t.right(90)\n",
    "        t.forward(60)\n",
    "        t.right(90)\n",
    "rechteck(60,100)"
   ]
  },
  {
   "cell_type": "code",
   "execution_count": 38,
   "metadata": {},
   "outputs": [],
   "source": [
    "# delme\n",
    "t.reset()\n",
    "t.pencolor(0,0,0)\n",
    "def rechteck(laenge, breite):\n",
    "    for j in range (2):\n",
    "        t.forward(laenge)\n",
    "        t.right(90)\n",
    "        t.forward(breite)\n",
    "        t.right(90)\n",
    "rechteck(100,60)"
   ]
  },
  {
   "cell_type": "markdown",
   "metadata": {},
   "source": [
    "##### --- Aufgabe: rechteck benutzen\n",
    "\n",
    "> Benutzen Sie Ihre `rechteck` Funktion, um die Schiene mit flexibler Grösse zeichnen zu lassen. Hier eine Schiene mit Breite laenge 15, breite 30 aneinandergereiht\n",
    "\n",
    "<img src=\"https://www.human.li/lp/img/py_schiene2.png\">\n"
   ]
  },
  {
   "cell_type": "code",
   "execution_count": 39,
   "metadata": {},
   "outputs": [],
   "source": [
    "t.reset()\n",
    "# hier kommt Ihr Code hin\n",
    "\n",
    "for i in range (8):\n",
    "    rechteck(15, 30)\n",
    "    # hier fehlt noch etwas"
   ]
  },
  {
   "cell_type": "code",
   "execution_count": 40,
   "metadata": {},
   "outputs": [],
   "source": [
    "# delme\n",
    "t.reset()\n",
    "t.pencolor(0,0,0)\n",
    "def rechteck(laenge, breite):\n",
    "    for i in range(2):\n",
    "        for j in range (2):\n",
    "            t.forward(laenge)\n",
    "            t.right(90)\n",
    "            t.forward(breite)\n",
    "            t.right(90)\n",
    "\n",
    "for i in range(8):\n",
    "    rechteck(15,30)\n",
    "    t.forward(15)"
   ]
  },
  {
   "cell_type": "markdown",
   "metadata": {},
   "source": [
    "##### --- Aufgabe: rechteck benutzen\n",
    "\n",
    "> Erstellen Sie eine Funktion `schiene(anzahl, laenge, breite)` also mit drei Parametern. Der erste setzt die Anzahl Elemente, die zwei nächsten die Länge/Breite jedes Elements.\n",
    "\n",
    "Wahrscheinlich haben Sie obige Aufgabe in etwa so gelöst um `8` Schienen mit der Länge `15` und der Breite `30` zu erstellen:\n",
    "```python\n",
    "for i in range(8):\n",
    "    rechteck(15,30)\n",
    "    t.forward(15)\n",
    "```\n",
    "\n",
    "Die Variablen, die an eine von Ihnen zu erstellende Funktion übergeben werden sind `schiene(anzahl, laenge, breite)`. Ihre Aufgabe ist es zu überlegen, wie Sie die drei Variablen verwenden können um dies nicht fix sondern flexibel zu gestalten. Es sollte somit `schiene(8, 15, 30)` genau dieselbe Figur ergeben.\n",
    "\n",
    "<img src=\"https://www.human.li/lp/img/py_schiene2.png\">\n"
   ]
  },
  {
   "cell_type": "code",
   "execution_count": 41,
   "metadata": {},
   "outputs": [],
   "source": [
    "t.reset()\n",
    "def rechteck(laenge, breite):\n",
    "    for j in range (2):\n",
    "        t.forward(laenge)\n",
    "        t.right(90)\n",
    "        t.forward(breite)\n",
    "        t.right(90)\n",
    "        \n",
    "# Sie müssen wieder die folgende Funktion etwas anpassen\n",
    "def schiene(anzahl, laenge, breite):\n",
    "    for i in range(8):\n",
    "        rechteck(15,30)\n",
    "        t.forward(15)\n",
    "        \n",
    "schiene(8, 15, 30)"
   ]
  },
  {
   "cell_type": "code",
   "execution_count": 42,
   "metadata": {},
   "outputs": [],
   "source": [
    "# delme\n",
    "t.reset()\n",
    "t.pencolor(0,0,0)\n",
    "def rechteck(laenge, breite):\n",
    "    for i in range(2):\n",
    "        for j in range (2):\n",
    "            t.forward(laenge)\n",
    "            t.right(90)\n",
    "            t.forward(breite)\n",
    "            t.right(90)\n",
    "def schiene (anzahl, laenge, breite):\n",
    "    for i in range(anzahl):\n",
    "        rechteck(laenge,breite)\n",
    "        t.forward(laenge)\n",
    "schiene(8, 15, 30)"
   ]
  },
  {
   "cell_type": "markdown",
   "metadata": {},
   "source": [
    "##### --- Aufgabe: `xeck(anzahl, laenge)`\n",
    "\n",
    "> Da der Innenwinkel einer geschlossenen Figur mit gleichen Seiten 360 Grad ergibt. Könnten Sie sich die Funktionen quadrat() und dreieck() sowie alle weiteren x-Ecke sparen. Erstellen Sie eine Funktion `xeck(anzahl, laenge)`. Der Sie die Anzahl Ecken (z.B. 3) und die Länge der Seiten (z.B. 50) übergeben können. \n",
    "\n",
    "\n",
    "        \n",
    "<table border=\"1\" align=\"left\" >\n",
    "<tr><td style=\"text-align: center\">Dreieck</td>\n",
    "    <td style=\"text-align: center\">Quadrat</td>\n",
    "    <td style=\"text-align: center\">Sechseck</td></tr>\n",
    "<tr><td style=\"text-align: left\">\n",
    "<pre>\n",
    "for j in range (3):\n",
    "    t.forward(50)\n",
    "    t.right(120)\n",
    "</pre></td>\n",
    "<td style=\"text-align: left\">\n",
    "<pre>\n",
    "for j in range (4):\n",
    "    t.forward(50)\n",
    "    t.right(90) \n",
    "</pre></td>\n",
    "</pre></td>\n",
    "<td style=\"text-align: left\">\n",
    "<pre>\n",
    "for j in range (6):\n",
    "    t.forward(50)\n",
    "    t.right(60)\n",
    "</pre></td>\n",
    "</tr>\n",
    "</table>\n"
   ]
  },
  {
   "cell_type": "markdown",
   "metadata": {},
   "source": [
    "Arbeiten Sie die Gemeinsamkeiten und Unterschiede heraus, um die Funktion xeck zu erstellen."
   ]
  },
  {
   "cell_type": "code",
   "execution_count": null,
   "metadata": {},
   "outputs": [],
   "source": [
    "t.reset()\n",
    "# hier kommt Ihr Code hin\n",
    "\n",
    "\n",
    "# folgender Aufruf ergibt die Figur unterhalb\n",
    "xeck(3, 40)\n",
    "xeck(4, 40)\n",
    "xeck(5, 40)\n",
    "xeck(6, 40)\n",
    "xeck(7, 40)"
   ]
  },
  {
   "cell_type": "markdown",
   "metadata": {},
   "source": [
    "\n",
    "<img src=\"https://www.human.li/lp/img/py_xeck.png\">\n"
   ]
  },
  {
   "cell_type": "code",
   "execution_count": 125,
   "metadata": {},
   "outputs": [],
   "source": [
    "# delme\n",
    "t.reset()\n",
    "t.pencolor(0,0,0)\n",
    "def xeck(anzahl, laenge):\n",
    "    for i in range(anzahl):\n",
    "        t.forward(laenge)\n",
    "        t.right(360/anzahl)\n",
    "\n",
    "xeck(3, 40)\n",
    "xeck(4, 40)\n",
    "xeck(5, 40)\n",
    "xeck(6, 40)\n",
    "xeck(7, 40)"
   ]
  },
  {
   "cell_type": "markdown",
   "metadata": {},
   "source": [
    "# DELME"
   ]
  },
  {
   "cell_type": "code",
   "execution_count": 20,
   "metadata": {},
   "outputs": [
    {
     "data": {
      "application/javascript": [
       "if($(IPython.toolbar.selector.concat(' > #delme')).length == 0){\n",
       "  IPython.toolbar.add_buttons_group([\n",
       "        {\n",
       "             'label'   : 'delme',\n",
       "             'icon'    : 'fa fa-angle-double-down',\n",
       "             'callback': function(){\n",
       "                var cells = Jupyter.notebook.get_cells();\n",
       "                var delme = 0;\n",
       "                var this_cell = $(element).closest('.cell').data('cell');\n",
       "                //console.log(cells);\n",
       "                cells.forEach(function(cell) {\n",
       "                    if(cell.cell_type === \"code\" && cell !== this_cell) {\n",
       "                        //console.log(cell);\n",
       "                        var inhalt = cell.get_text();\n",
       "                        if (inhalt.includes(\"delme\")) {\n",
       "                            console.log(\"JAAAAAA: \" + cell);\n",
       "                            //cell.clear_output();\n",
       "                            var index = Jupyter.notebook.find_cell_index(cell);\n",
       "                            Jupyter.notebook.delete_cell(index);\n",
       "                        }\n",
       "                    }\n",
       "                });\n",
       "             }\n",
       "        }\n",
       "    ], 'delme');\n",
       "}\n",
       "console.log(\"-----------------\");\n"
      ],
      "text/plain": [
       "<IPython.core.display.Javascript object>"
      ]
     },
     "metadata": {},
     "output_type": "display_data"
    }
   ],
   "source": [
    "%%javascript\n",
    "if($(IPython.toolbar.selector.concat(' > #delme')).length == 0){\n",
    "  IPython.toolbar.add_buttons_group([\n",
    "        {\n",
    "             'label'   : 'delme',\n",
    "             'icon'    : 'fa fa-angle-double-down',\n",
    "             'callback': function(){\n",
    "                var cells = Jupyter.notebook.get_cells();\n",
    "                var delme = 0;\n",
    "                var this_cell = $(element).closest('.cell').data('cell');\n",
    "                //console.log(cells);\n",
    "                cells.forEach(function(cell) {\n",
    "                    if(cell.cell_type === \"code\" && cell !== this_cell) {\n",
    "                        //console.log(cell);\n",
    "                        var inhalt = cell.get_text();\n",
    "                        if (inhalt.includes(\"delme\")) {\n",
    "                            console.log(\"JAAAAAA: \" + cell);\n",
    "                            //cell.clear_output();\n",
    "                            var index = Jupyter.notebook.find_cell_index(cell);\n",
    "                            Jupyter.notebook.delete_cell(index);\n",
    "                        }\n",
    "                    }\n",
    "                });\n",
    "             }\n",
    "        }\n",
    "    ], 'delme');\n",
    "}\n",
    "console.log(\"-----------------\");\n"
   ]
  }
 ],
 "metadata": {
  "kernelspec": {
   "display_name": "Python 3",
   "language": "python",
   "name": "python3"
  },
  "language_info": {
   "codemirror_mode": {
    "name": "ipython",
    "version": 3
   },
   "file_extension": ".py",
   "mimetype": "text/x-python",
   "name": "python",
   "nbconvert_exporter": "python",
   "pygments_lexer": "ipython3",
   "version": "3.7.3"
  }
 },
 "nbformat": 4,
 "nbformat_minor": 4
}
