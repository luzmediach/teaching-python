{
 "cells": [
  {
   "attachments": {},
   "cell_type": "markdown",
   "metadata": {},
   "source": [
    "# Ein grafischer Einstieg ins Programmieren mit Turtle"
   ]
  },
  {
   "attachments": {},
   "cell_type": "markdown",
   "metadata": {},
   "source": [
    "Um das Programmieren zu lernen, hilft es ungemein, die Logik zu ==sehen==. Dazu brauchen wir ein Modul namens Turtle.\n",
    "\n",
    "Bevor Sie loslegen können, müssen wir den Computer anweisen, die Turtlebefehle aus dem Modul bereit zu stellen. Dazu folgender Code."
   ]
  },
  {
   "cell_type": "code",
   "execution_count": 19,
   "metadata": {},
   "outputs": [
    {
     "data": {
      "application/vnd.jupyter.widget-view+json": {
       "model_id": "4431b47dca0942aba67a3ef2e1e20b92",
       "version_major": 2,
       "version_minor": 0
      },
      "text/plain": [
       "Canvas(height=300, width=500)"
      ]
     },
     "metadata": {},
     "output_type": "display_data"
    }
   ],
   "source": [
    "import ipyturtle3 as turtle\n",
    "myCanvas=turtle.Canvas()\n",
    "display(myCanvas)\n",
    "myTS=turtle.TurtleScreen(myCanvas)\n",
    "myTS.clear()\n",
    "t=turtle.Turtle(myTS)\n",
    "t.clear()"
   ]
  },
  {
   "cell_type": "markdown",
   "metadata": {},
   "source": [
    "und erzeugst mit makeTurtle() eine Turtle mit Namen `t`.\n",
    "Mit `t.forward(100)` bewegt sich die Turtle um `100` Schritte vorwärts, mit `t.left(90)` dreht sie um `90` Grad nach links und mit `t.right(90)` dreht sie um `90` Grad nach rechts. Mit diesen Befehlen kannst du die Turtle steuern. "
   ]
  },
  {
   "cell_type": "code",
   "execution_count": 20,
   "metadata": {},
   "outputs": [
    {
     "data": {
      "application/vnd.jupyter.widget-view+json": {
       "model_id": "4431b47dca0942aba67a3ef2e1e20b92",
       "version_major": 2,
       "version_minor": 0
      },
      "text/plain": [
       "Canvas(height=300, width=500)"
      ]
     },
     "metadata": {},
     "output_type": "display_data"
    }
   ],
   "source": [
    "display(myCanvas)\n",
    "t.reset()\n",
    "t.forward(100)\n",
    "t.left(90)\n",
    "t.forward(50)\n",
    "t.left(90)\n",
    "t.forward(50)\n",
    "t.right(90)\n",
    "t.forward(50)"
   ]
  },
  {
   "cell_type": "markdown",
   "metadata": {},
   "source": [
    "##### --- Aufgabe: Dreieck"
   ]
  },
  {
   "cell_type": "markdown",
   "metadata": {},
   "source": [
    "Mit dem Befehlt right(90) sagst du der Turtle, dass sie 90° nach rechts drehen soll.\n",
    "\n",
    "Versuche die Turtle anzuleiten, ein gleichseitiges Dreieck mit der Seitenlänge 100 zu zeichnen. Findest du den richtigen Drehwinkel?\n",
    "\n",
    "<img src=\"https://human.li/lp/img/py_3eck1.png\">"
   ]
  },
  {
   "cell_type": "code",
   "execution_count": 3,
   "metadata": {},
   "outputs": [],
   "source": [
    "t.reset()\n",
    "# hier kommt Ihr Code hin\n"
   ]
  },
  {
   "cell_type": "code",
   "execution_count": 21,
   "metadata": {},
   "outputs": [
    {
     "data": {
      "application/vnd.jupyter.widget-view+json": {
       "model_id": "4431b47dca0942aba67a3ef2e1e20b92",
       "version_major": 2,
       "version_minor": 0
      },
      "text/plain": [
       "Canvas(height=300, width=500)"
      ]
     },
     "metadata": {},
     "output_type": "display_data"
    }
   ],
   "source": [
    "display(myCanvas)\n",
    "# delme\n",
    "t.reset()\n",
    "for i in range(3):\n",
    "    t.forward(50)\n",
    "    t.right(120)"
   ]
  },
  {
   "cell_type": "markdown",
   "metadata": {},
   "source": [
    "##### --- Aufgabe: Rückwärts"
   ]
  },
  {
   "cell_type": "markdown",
   "metadata": {},
   "source": [
    "Die Turtle kann sich auch rückwärts bewegen. Soll sie beispielsweise 100 Schritte rückwärtsgehen, so verwendest du den Befehl back(100):\n",
    "```\n",
    "t.forward(100)\n",
    "t.back(100)\n",
    "```\n",
    "\n",
    "Zeichne die nebenstehende Figur.\n",
    "\n",
    "<img src=\"https://human.li/lp/img/py_3spitz.png\">"
   ]
  },
  {
   "cell_type": "code",
   "execution_count": 22,
   "metadata": {},
   "outputs": [
    {
     "data": {
      "application/vnd.jupyter.widget-view+json": {
       "model_id": "4431b47dca0942aba67a3ef2e1e20b92",
       "version_major": 2,
       "version_minor": 0
      },
      "text/plain": [
       "Canvas(height=300, width=500)"
      ]
     },
     "metadata": {},
     "output_type": "display_data"
    }
   ],
   "source": [
    "display(myCanvas)\n",
    "t.reset()\n",
    "# hier kommt Ihr Code hin\n",
    "t.forward(100)\n",
    "t.back(100)"
   ]
  },
  {
   "cell_type": "code",
   "execution_count": 23,
   "metadata": {},
   "outputs": [],
   "source": [
    "# delme\n",
    "t.reset()\n",
    "for i in range(3):\n",
    "    t.forward(50)\n",
    "    t.back(50)\n",
    "    t.right(120)"
   ]
  },
  {
   "cell_type": "markdown",
   "metadata": {},
   "source": [
    "##### --- Aufgabe: Figur nachzeichnen"
   ]
  },
  {
   "cell_type": "markdown",
   "metadata": {},
   "source": [
    "Zeichne die nebenstehende Figur.\n",
    "\n",
    "<img src=\"https://human.li/lp/img/py_zack1.png\">"
   ]
  },
  {
   "cell_type": "code",
   "execution_count": 4,
   "metadata": {},
   "outputs": [],
   "source": [
    "t.reset()\n",
    "# hier kommt Ihr Code hin\n"
   ]
  },
  {
   "cell_type": "code",
   "execution_count": 24,
   "metadata": {},
   "outputs": [],
   "source": [
    "# delme\n",
    "t.reset()\n",
    "t.right(45)\n",
    "for i in range(4):\n",
    "    t.forward(30)\n",
    "    t.right(90)\n",
    "    \n",
    "    t.forward(30)\n",
    "    t.left(90)\n",
    "    "
   ]
  },
  {
   "cell_type": "markdown",
   "metadata": {},
   "source": [
    "##### --- Aufgabe: Figur nachzeichnen"
   ]
  },
  {
   "cell_type": "markdown",
   "metadata": {},
   "source": [
    "Zeichne die nebenstehende Figur.\n",
    "\n",
    "<img src=\"https://human.li/lp/img/py_a1_4.png\">"
   ]
  },
  {
   "cell_type": "code",
   "execution_count": 4,
   "metadata": {},
   "outputs": [],
   "source": [
    "t.reset()\n",
    "# hier kommt Ihr Code hin\n"
   ]
  },
  {
   "cell_type": "markdown",
   "metadata": {},
   "source": [
    "##### --- Aufgabe: Quadrat"
   ]
  },
  {
   "cell_type": "markdown",
   "metadata": {},
   "source": [
    "Zeichne die nebenstehende Figur.\n",
    "\n",
    "<img src=\"https://human.li/lp/img/py_quad0.png\">"
   ]
  },
  {
   "cell_type": "code",
   "execution_count": 4,
   "metadata": {},
   "outputs": [],
   "source": [
    "t.reset()\n",
    "# hier kommt Ihr Code hin\n"
   ]
  },
  {
   "cell_type": "code",
   "execution_count": 11,
   "metadata": {},
   "outputs": [],
   "source": [
    "# delme\n",
    "t.reset()\n",
    "#t.right(45)\n",
    "for i in range(4):\n",
    "    t.forward(30)\n",
    "    t.right(90)\n",
    "    "
   ]
  },
  {
   "cell_type": "markdown",
   "metadata": {},
   "source": [
    "##### --- Aufgabe: Fünfeck"
   ]
  },
  {
   "cell_type": "markdown",
   "metadata": {},
   "source": [
    "Zeichne die nebenstehende Figur.\n",
    "\n",
    "Tipp: Winkel = 360° geteilt durch die Anzahl Ecken der Figur\n",
    "\n",
    "<img src=\"https://human.li/lp/img/py_5eck0.png\">"
   ]
  },
  {
   "cell_type": "code",
   "execution_count": 4,
   "metadata": {},
   "outputs": [],
   "source": [
    "t.reset()\n",
    "# hier kommt Ihr Code hin\n"
   ]
  },
  {
   "cell_type": "code",
   "execution_count": 13,
   "metadata": {},
   "outputs": [],
   "source": [
    "# delme\n",
    "t.reset()\n",
    "#t.right(45)\n",
    "for i in range(5):\n",
    "    t.forward(30)\n",
    "    t.right(72)\n",
    "    "
   ]
  },
  {
   "cell_type": "markdown",
   "metadata": {},
   "source": [
    "##### --- Aufgabe: Sechseck"
   ]
  },
  {
   "cell_type": "markdown",
   "metadata": {},
   "source": [
    "Zeichne die nebenstehende Figur.\n",
    "\n",
    "Tipp: Winkel = 360° geteilt durch die Anzahl Ecken der Figur\n",
    "\n",
    "<img src=\"https://human.li/lp/img/py_sechseck.png\">"
   ]
  },
  {
   "cell_type": "code",
   "execution_count": 4,
   "metadata": {},
   "outputs": [],
   "source": [
    "t.reset()\n",
    "# hier kommt Ihr Code hin\n"
   ]
  },
  {
   "cell_type": "code",
   "execution_count": 15,
   "metadata": {},
   "outputs": [],
   "source": [
    "# delme\n",
    "t.reset()\n",
    "t.right(90)\n",
    "for i in range(6):\n",
    "    t.forward(30)\n",
    "    t.right(60)\n",
    "    "
   ]
  },
  {
   "cell_type": "markdown",
   "metadata": {},
   "source": [
    "# Schlaufen, also wiederholt etwas machen"
   ]
  },
  {
   "cell_type": "markdown",
   "metadata": {},
   "source": [
    "Um ein Quadrat zu zeichnen, muss die Turtle vier Mal die Befehle forward(100) und left(90) ausführen. Du kannst dies eleganter mit einer Schlaufe programmieren:"
   ]
  },
  {
   "cell_type": "code",
   "execution_count": 8,
   "metadata": {
    "scrolled": true
   },
   "outputs": [
    {
     "name": "stdout",
     "output_type": "stream",
     "text": [
      "Anfang\n",
      "Durchlaufen \n",
      "Durchlaufen \n",
      "Durchlaufen \n",
      "Durchlaufen \n",
      "Ende\n"
     ]
    }
   ],
   "source": [
    "t.reset()\n",
    "print (\"Anfang\")\n",
    "for i in range (4):\n",
    "    print (\"Durchlaufen \")\n",
    "    t.forward(50)\n",
    "    t.right(90)\n",
    "print (\"Ende\")"
   ]
  },
  {
   "cell_type": "markdown",
   "metadata": {},
   "source": [
    "> Schauen Sie sich oberhalb die Ausgabe an. Erennen Sie warum was wie oft dasteht?"
   ]
  },
  {
   "cell_type": "markdown",
   "metadata": {},
   "source": [
    "Dasselbe, ohne unnötige print Statements:"
   ]
  },
  {
   "cell_type": "code",
   "execution_count": null,
   "metadata": {},
   "outputs": [],
   "source": [
    "t.reset()\n",
    "for i in range (4):\n",
    "    t.forward(50)\n",
    "    t.right(90)"
   ]
  },
  {
   "cell_type": "markdown",
   "metadata": {},
   "source": [
    "Die Wiederholung wird mit `for i in range(4):` eingeleitet. Dabei ist der Doppelpunkt sehr wichtig. Vergisst du ihn, so ergibt sich bei der Programmausführung eine Fehlermeldung.\n",
    "\n",
    "Die Befehle im nachfolgenden Programmblock musst du alle gleichweit einrücken. Benutze die Tabulator-Taste brauchen, um sie zu erzeugen. Man spricht bei der Wiederholstruktur auch vom Durchlaufen einer Schleife."
   ]
  },
  {
   "cell_type": "code",
   "execution_count": 19,
   "metadata": {},
   "outputs": [],
   "source": [
    "t.reset()\n",
    "t.forward(50)\n",
    "t.right(120)\n",
    "t.forward(50)\n",
    "t.right(120)\n",
    "t.forward(50)\n",
    "t.right(120)"
   ]
  },
  {
   "cell_type": "markdown",
   "metadata": {},
   "source": [
    "Bauen Sie nun mit Hilfe einer Schlaufe dieselbe Figur:\n"
   ]
  },
  {
   "cell_type": "code",
   "execution_count": 7,
   "metadata": {},
   "outputs": [
    {
     "name": "stdout",
     "output_type": "stream",
     "text": [
      "Durchlaufen  0\n",
      "Durchlaufen  1\n",
      "Durchlaufen  2\n",
      "Durchlaufen  3\n"
     ]
    }
   ],
   "source": [
    "t.reset()\n",
    "for i in range (4):\n",
    "    print (\"Durchlaufen \", i)"
   ]
  },
  {
   "cell_type": "code",
   "execution_count": 22,
   "metadata": {},
   "outputs": [],
   "source": [
    "# delme\n",
    "#from gturtle import *\n",
    "#makeTurtle()\n",
    "t.reset()\n",
    "for i in range (3):\n",
    "    t.forward(50)\n",
    "    t.right(120)"
   ]
  },
  {
   "cell_type": "markdown",
   "metadata": {},
   "source": [
    "##### --- Aufgabe: sechseck bauen, mit Schlaufe\n",
    "<img src=\"https://human.li/lp/img/py_sechseck.png\">"
   ]
  },
  {
   "cell_type": "code",
   "execution_count": 23,
   "metadata": {},
   "outputs": [],
   "source": [
    "t.reset()\n",
    "# hierhin kommt Ihr Code\n"
   ]
  },
  {
   "cell_type": "markdown",
   "metadata": {},
   "source": [
    "##### --- Aufgabe: Fünfeck bauen, mit Schlaufe\n",
    "<img src=\"https://human.li/lp/img/py_5eck0.png\">"
   ]
  },
  {
   "cell_type": "code",
   "execution_count": 23,
   "metadata": {},
   "outputs": [],
   "source": [
    "t.reset()\n",
    "# hierhin kommt Ihr Code\n"
   ]
  },
  {
   "cell_type": "markdown",
   "metadata": {},
   "source": [
    "##### --- Aufgabe: Stern bauen, mit Schlaufe\n",
    "\n",
    "> Aussenwinkel: 144 Grad, also 5x vorwärts und dann um 144 Grad drehen\n",
    "\n",
    "<img src=\"https://human.li/lp/img/py_5stern.png\">"
   ]
  },
  {
   "cell_type": "code",
   "execution_count": 23,
   "metadata": {},
   "outputs": [],
   "source": [
    "t.reset()\n",
    "# hierhin kommt Ihr Code\n"
   ]
  },
  {
   "cell_type": "code",
   "execution_count": 9,
   "metadata": {},
   "outputs": [],
   "source": [
    "# delme\n",
    "t.reset()\n",
    "for i in range (5):\n",
    "    t.forward(50)\n",
    "    t.right(144)"
   ]
  },
  {
   "cell_type": "markdown",
   "metadata": {},
   "source": [
    "##### --- Aufgabe: Stern bauen, mit Schlaufe\n",
    "\n",
    "> Aussenwinkel: 160 Grad\n",
    "\n",
    "<img src=\"https://human.li/lp/img/py_9stern.png\">"
   ]
  },
  {
   "cell_type": "code",
   "execution_count": 23,
   "metadata": {},
   "outputs": [],
   "source": [
    "t.reset()\n",
    "# hierhin kommt Ihr Code\n"
   ]
  },
  {
   "cell_type": "code",
   "execution_count": 10,
   "metadata": {},
   "outputs": [],
   "source": [
    "# delme\n",
    "t.reset()\n",
    "for i in range (9):\n",
    "    t.forward(50)\n",
    "    t.right(160)"
   ]
  },
  {
   "cell_type": "markdown",
   "metadata": {},
   "source": [
    "##### --- Aufgabe: Stufen\n",
    "\n",
    "> Bauen Sie diese Treppe mit 7 Stufen einmal nach rechts oben und einmal nach links oben\n",
    "\n",
    "<img width=\"200\" src=\"https://human.li/lp/img/py_trepp1.png\">"
   ]
  },
  {
   "cell_type": "code",
   "execution_count": 23,
   "metadata": {},
   "outputs": [],
   "source": [
    "t.reset()\n",
    "# hierhin kommt Ihr Code\n"
   ]
  },
  {
   "cell_type": "code",
   "execution_count": 23,
   "metadata": {},
   "outputs": [],
   "source": [
    "t.reset()\n",
    "# hierhin kommt Ihr Code\n"
   ]
  },
  {
   "cell_type": "code",
   "execution_count": 11,
   "metadata": {},
   "outputs": [],
   "source": [
    "# delme\n",
    "t.reset()\n",
    "l=20\n",
    "for i in range (7):\n",
    "    t.forward(l)\n",
    "    t.right(90)\n",
    "    t.forward(l)\n",
    "    t.left(90)"
   ]
  },
  {
   "cell_type": "markdown",
   "metadata": {},
   "source": [
    "##### --- Aufgabe: Figur, 9 Zacken\n",
    "> Bauen Sie die folgende Figur nach mit Hilfe einer Schlaufe\n",
    "\n",
    "<img width=\"150\" src=\"https://human.li/lp/img/py_blume_strich.png\">"
   ]
  },
  {
   "cell_type": "code",
   "execution_count": 33,
   "metadata": {},
   "outputs": [],
   "source": [
    "t.reset()\n",
    "# hierhin kommt Ihr Code\n"
   ]
  },
  {
   "cell_type": "code",
   "execution_count": 36,
   "metadata": {},
   "outputs": [],
   "source": [
    "# delme\n",
    "t.reset()\n",
    "l=40\n",
    "# hierhin kommt Ihr Code\n",
    "for i in range(9):\n",
    "    t.forward(l)\n",
    "    t.back(l)\n",
    "    t.right(40)"
   ]
  },
  {
   "cell_type": "markdown",
   "metadata": {},
   "source": [
    "##### --- Aufgabe: Figur, 9 Ecken\n",
    "> Bauen Sie die folgende Figur nach mit Hilfe einer Schlaufe\n",
    "\n",
    "<img width=\"150\" src=\"https://human.li/lp/img/py_9eck.png\">"
   ]
  },
  {
   "cell_type": "code",
   "execution_count": 33,
   "metadata": {},
   "outputs": [],
   "source": [
    "t.reset()\n",
    "# hierhin kommt Ihr Code\n"
   ]
  },
  {
   "cell_type": "code",
   "execution_count": 37,
   "metadata": {},
   "outputs": [],
   "source": [
    "# delme\n",
    "t.reset()\n",
    "l=40\n",
    "# hierhin kommt Ihr Code\n",
    "for i in range(9):\n",
    "    t.forward(l)\n",
    "    #t.back(l)\n",
    "    t.right(40)"
   ]
  },
  {
   "cell_type": "markdown",
   "metadata": {},
   "source": [
    "# Schlaufen in Schlaufen\n",
    "\n",
    "VERSCHACHTELTE SCHLEIFEN\n",
    "  \t\n",
    "Richtig spannend und anspruchsvoll wird es, wenn du zwei Schlaufen ineinander verschachtelst. Du musst dann immer denken, dass zuerst die \"innere\", weiter eingerückte Wiederholstruktur durchlaufen wird, bevor sich die \"äussere\", weniger eingerückte Struktur wiederholt.\n",
    "\n",
    "In diesem Beispiel zeichnet die innere Schleife ein einzelnes Quadrat und die Turtle befindet sich nachher wieder in der linken unteren Ecke des Quadrats. Sie wird dann in der äusseren Schleife vorgeschoben und das Quadrat wird erneut gezeichnet.\n",
    "\n",
    "> Beachten Sie: die Laufvariablen `i` und `j` sind etwas das Sie selbst bestimmen dürfen. Es müssen jedoch unterschiedliche Buchstaben sein"
   ]
  },
  {
   "cell_type": "code",
   "execution_count": 40,
   "metadata": {},
   "outputs": [],
   "source": [
    "t.reset()\n",
    "\n",
    "for i in range(4):\n",
    "    for j in range(4):\n",
    "        t.forward(20)\n",
    "        t.right(90)\n",
    "    t.forward(20)"
   ]
  },
  {
   "cell_type": "markdown",
   "metadata": {},
   "source": [
    "##### --- Anpassen der Schlaufe\n",
    "\n",
    "> Passen Sie die folgende Schlaufe an, so dass 6 Stufen erstellt werden, statt vier"
   ]
  },
  {
   "cell_type": "code",
   "execution_count": 38,
   "metadata": {},
   "outputs": [],
   "source": [
    "t.reset()\n",
    "\n",
    "for i in range(4):\n",
    "    for j in range(4):\n",
    "        t.forward(20)\n",
    "        t.right(90)\n",
    "    t.forward(20)"
   ]
  },
  {
   "cell_type": "markdown",
   "metadata": {},
   "source": [
    "##### --- Anpassen der Schlaufe\n",
    "\n",
    "> Passen Sie die folgende Schlaufe an, so dass 6 Stufen erstellt werden, diese sollen aber 30 Einheiten lang sein und die Schiene soll nach rechts, statt oben zeigen"
   ]
  },
  {
   "cell_type": "code",
   "execution_count": 38,
   "metadata": {},
   "outputs": [],
   "source": [
    "t.reset()\n",
    "\n",
    "for i in range(4):\n",
    "    for j in range(4):\n",
    "        t.forward(20)\n",
    "        t.right(90)\n",
    "    t.forward(20)"
   ]
  },
  {
   "cell_type": "markdown",
   "metadata": {},
   "source": [
    "##### --- Aufgabe: Schiene aus Rechtecken\n",
    "> Bauen Sie die folgende Figur nach mit Hilfe einer Schlaufe\n",
    "\n",
    "<img width=\"150\"  src=\"https://human.li/lp/img/py_schiene2_quer.png\">"
   ]
  },
  {
   "cell_type": "code",
   "execution_count": 33,
   "metadata": {},
   "outputs": [],
   "source": [
    "t.reset()\n",
    "# hierhin kommt Ihr Code\n"
   ]
  },
  {
   "cell_type": "code",
   "execution_count": 45,
   "metadata": {},
   "outputs": [],
   "source": [
    "# delme\n",
    "t.reset()\n",
    "t.right(90)\n",
    "l=20\n",
    "b=40\n",
    "for i in range(6):\n",
    "    for j in range(2):\n",
    "        t.forward(l)\n",
    "        t.right(90)\n",
    "        t.forward(b)\n",
    "        t.right(90)\n",
    "    t.forward(l)"
   ]
  },
  {
   "cell_type": "markdown",
   "metadata": {},
   "source": [
    "# DELME"
   ]
  },
  {
   "cell_type": "code",
   "execution_count": 18,
   "metadata": {},
   "outputs": [
    {
     "data": {
      "application/javascript": "if($(IPython.toolbar.selector.concat(' > #delme')).length == 0){\n  IPython.toolbar.add_buttons_group([\n        {\n             'label'   : 'delme',\n             'icon'    : 'fa fa-angle-double-down',\n             'callback': function(){\n                var cells = Jupyter.notebook.get_cells();\n                var delme = 0;\n                var this_cell = $(element).closest('.cell').data('cell');\n                //console.log(cells);\n                cells.forEach(function(cell) {\n                    if(cell.cell_type === \"code\" && cell !== this_cell) {\n                        //console.log(cell);\n                        var inhalt = cell.get_text();\n                        if (inhalt.includes(\"delme\")) {\n                            console.log(\"JAAAAAA: \" + cell);\n                            //cell.clear_output();\n                            var index = Jupyter.notebook.find_cell_index(cell);\n                            Jupyter.notebook.delete_cell(index);\n                        }\n                    }\n                });\n             }\n        }\n    ], 'delme');\n}\nconsole.log(\"-----------------\");\n",
      "text/plain": [
       "<IPython.core.display.Javascript object>"
      ]
     },
     "metadata": {},
     "output_type": "display_data"
    }
   ],
   "source": [
    "%%javascript\n",
    "if($(IPython.toolbar.selector.concat(' > #delme')).length == 0){\n",
    "  IPython.toolbar.add_buttons_group([\n",
    "        {\n",
    "             'label'   : 'delme',\n",
    "             'icon'    : 'fa fa-angle-double-down',\n",
    "             'callback': function(){\n",
    "                var cells = Jupyter.notebook.get_cells();\n",
    "                var delme = 0;\n",
    "                var this_cell = $(element).closest('.cell').data('cell');\n",
    "                //console.log(cells);\n",
    "                cells.forEach(function(cell) {\n",
    "                    if(cell.cell_type === \"code\" && cell !== this_cell) {\n",
    "                        //console.log(cell);\n",
    "                        var inhalt = cell.get_text();\n",
    "                        if (inhalt.includes(\"delme\")) {\n",
    "                            console.log(\"JAAAAAA: \" + cell);\n",
    "                            //cell.clear_output();\n",
    "                            var index = Jupyter.notebook.find_cell_index(cell);\n",
    "                            Jupyter.notebook.delete_cell(index);\n",
    "                        }\n",
    "                    }\n",
    "                });\n",
    "             }\n",
    "        }\n",
    "    ], 'delme');\n",
    "}\n",
    "console.log(\"-----------------\");\n"
   ]
  }
 ],
 "metadata": {
  "kernelspec": {
   "display_name": "Python 3",
   "language": "python",
   "name": "python3"
  },
  "language_info": {
   "codemirror_mode": {
    "name": "ipython",
    "version": 3
   },
   "file_extension": ".py",
   "mimetype": "text/x-python",
   "name": "python",
   "nbconvert_exporter": "python",
   "pygments_lexer": "ipython3",
   "version": "3.10.7"
  }
 },
 "nbformat": 4,
 "nbformat_minor": 4
}
