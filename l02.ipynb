{
 "cells": [
  {
   "cell_type": "markdown",
   "metadata": {},
   "source": [
    "Führen Sie zunächst wieder diesen Code aus, um das Notebook zu initialisieren."
   ]
  },
  {
   "cell_type": "code",
   "execution_count": 1,
   "metadata": {},
   "outputs": [
    {
     "data": {
      "application/vnd.jupyter.widget-view+json": {
       "model_id": "afef12d847134f5491a0f2df7af7616b",
       "version_major": 2,
       "version_minor": 0
      },
      "text/plain": [
       "Canvas(height=600, width=800)"
      ]
     },
     "metadata": {},
     "output_type": "display_data"
    }
   ],
   "source": [
    "import ipyturtle3 as turtle\n",
    "myCanvas=turtle.Canvas(width=800,height=600)\n",
    "display(myCanvas)\n",
    "myTS=turtle.TurtleScreen(myCanvas)\n",
    "myTS.colormode(255)\n",
    "myTS.clear()\n",
    "t=turtle.Turtle(myTS)\n",
    "t.clear()"
   ]
  },
  {
   "cell_type": "markdown",
   "metadata": {},
   "source": [
    "# Funktionen\n",
    "\n",
    "Es sollte eine Funktion geben `quadrat()`, die Sie aufrufen können und sich so auf wiederholt verwendete Abläufe mit Namen zu beziehen.\n",
    "\n",
    "\n",
    "<table border=\"1\" align=\"left\" >\n",
    "<tr><td style=\"text-align: center\">Ohne Funktion</td>\n",
    "    <td style=\"text-align: center\">Als Funktion</td>\n",
    "    <td style=\"text-align: center\">Als Funktion mit Schlaufe</td></tr>\n",
    "<tr><td style=\"text-align: left\">\n",
    "<pre>\n",
    "t.forward (20)\n",
    "t.right (90)\n",
    "t.forward (20)\n",
    "t.right (90)\n",
    "t.forward (20)\n",
    "t.right (90)\n",
    "t.forward (20)\n",
    "</pre></td>\n",
    "<td style=\"text-align: left\">\n",
    "<pre>\n",
    "def quadrat():\n",
    "    t.forward (20)\n",
    "    t.right (90)\n",
    "    t.forward (20)\n",
    "    t.right (90)\n",
    "    t.forward (20)\n",
    "    t.right (90)\n",
    "    t.forward (20)\n",
    "quadrat() \n",
    "</pre></td>\n",
    "</pre></td>\n",
    "<td style=\"text-align: left\">\n",
    "<pre>\n",
    "def quadrat():\n",
    "    for i in range (4):\n",
    "        t.forward (20)\n",
    "        t.right (90)\n",
    "quadrat()\n",
    "</pre></td>\n",
    "</tr>\n",
    "</table>"
   ]
  },
  {
   "cell_type": "markdown",
   "metadata": {},
   "source": [
    "Beachten Sie\n",
    "- die Einrückung zeigt an, was zur Funktion gehört. Was zur Funktion gehört ist also eingerückt. Gehört etwas eingerücktes, wie eine Schlaufe zur Funktion, so ist diese wiederum entsprechend eingerückt. \n",
    "- eine Funktion an sich macht gar nichts, bis sie nicht aufgerufen wird (hier mit `quadrat()` unterhalb der Funktion"
   ]
  },
  {
   "cell_type": "markdown",
   "metadata": {},
   "source": [
    "Probieren Sie es aus:"
   ]
  },
  {
   "cell_type": "code",
   "execution_count": 2,
   "metadata": {},
   "outputs": [],
   "source": [
    "t.reset()\n",
    "def quadrat():\n",
    "    for i in range (4):\n",
    "        t.forward (50)\n",
    "        t.right (90)\n",
    "quadrat()"
   ]
  },
  {
   "cell_type": "markdown",
   "metadata": {},
   "source": [
    "## Aufgabe: Funktion `quadrat` benutzen für einen \"Quadrat-Kreis\"\n",
    "\n",
    "Benutzen Sie die Funktion `quadrat`, um die obige Figur nochmals eleganter (und ohne Farbe) zu zeichnen. Sie müssen die Funktion hier nicht noch einmal hinschreiben. Es reicht, wenn sie es oben einmalig definiert haben um sie unten benutzen zu können\n",
    "\n",
    "<img width=\"300\" src=\"https://www.human.li/lp/img/py_quad1.png\">"
   ]
  },
  {
   "cell_type": "code",
   "execution_count": 27,
   "metadata": {},
   "outputs": [],
   "source": [
    "t.reset()\n",
    "# hier kommt Ihr Code hin\n"
   ]
  },
  {
   "cell_type": "markdown",
   "metadata": {},
   "source": [
    "## Aufgabe: Funktion `dreieck` und \"Dreieck-Kreis\"\n",
    "\n",
    "Schreiben Sie zuerst eine Funktion `dreieck()`, die ein gleichseitiges 50 Pixel langes Dreieck malt\n",
    "\n",
    "Benutzen Sie sodann Ihre Funktion um dieses 6 Mal im Kreis drehend zu zeichnen\n",
    "\n",
    "<img src=\"https://www.human.li/lp/img/py_dreieck1.png\">"
   ]
  },
  {
   "cell_type": "code",
   "execution_count": 83,
   "metadata": {},
   "outputs": [],
   "source": [
    "t.reset()\n",
    "# hier kommt Ihr Code hin, also die Funktion\n",
    "\n",
    "\n",
    "# Am Schluss müssen Sie die Funktion auch aufrufen\n",
    "dreieck()"
   ]
  },
  {
   "cell_type": "markdown",
   "metadata": {},
   "source": [
    "## Aufgabe: Funktion `dreieck` und \"Dreieck-Kreis\"\n",
    "\n",
    "Benutzen Sie die Funktion `dreieck` wieder um daraus ein Sechseck zu bilden:\n",
    "\n",
    "<img src=\"https://www.human.li/lp/img/py_dreieck2.png\">"
   ]
  },
  {
   "cell_type": "code",
   "execution_count": 65,
   "metadata": {},
   "outputs": [],
   "source": [
    "t.reset()\n",
    "# hier kommt Ihr Code hin\n"
   ]
  },
  {
   "cell_type": "markdown",
   "metadata": {},
   "source": [
    "## Aufgabe: Funktion `sechseck`\n",
    "\n",
    "Verpacken Sie nun die obige Aufgabe in eine eigene Funktion `sechseck()` , so dass Sie diese wiederum aufrufen können um direkte diese Figur zu malen:\n",
    "<img src=\"https://www.human.li/lp/img/py_dreieck2.png\">"
   ]
  },
  {
   "cell_type": "code",
   "execution_count": 27,
   "metadata": {},
   "outputs": [],
   "source": [
    "t.reset()\n",
    "# hier kommt Ihr Code hin\n",
    "\n",
    "\n",
    "seckseck()  # ein einziger Aufruf malt obige Figur"
   ]
  },
  {
   "cell_type": "markdown",
   "metadata": {},
   "source": [
    "# Variablen & Funktionen mit Parametern"
   ]
  },
  {
   "cell_type": "markdown",
   "metadata": {},
   "source": [
    "Das Ziel ist nun eigene Funktionen zu schreiben, die mit Parametern aufgerufen werden können. Also z.B. dass wie `forward(100)` oder `forward(50)` auch eigene Funktionen mit einem Zahlenwert funktionieren wie `dreieck(50)`, welches ein gleichseitiges Dreieck mit Seitenlänge 50 malt."
   ]
  },
  {
   "cell_type": "markdown",
   "metadata": {},
   "source": [
    "Zunächst gilt Variablen zu verstehen. Sie können sich das "
   ]
  },
  {
   "cell_type": "code",
   "execution_count": 5,
   "metadata": {},
   "outputs": [],
   "source": [
    "t.reset()\n",
    "# Hier wird eine eigene Variable erstellt mit Namen 'laenge'\n",
    "laenge = 100\n",
    "\n",
    "for j in range (3):\n",
    "    t.right(120)\n",
    "    # die Variable laenge hat den Wert 100, also wird t.forward(100) ausgeführt\n",
    "    t.forward(laenge)"
   ]
  },
  {
   "cell_type": "markdown",
   "metadata": {},
   "source": [
    "## Aufgabe: Variable laenge und breite verwenden für ein Rechteck\n",
    "\n",
    "Verändern Sie den folgenden Code analog zum Beispiel oberhalb, so dass Sie mit Variablen bestimmen können, wie lang und breit das Rechteck sein wird"
   ]
  },
  {
   "cell_type": "code",
   "execution_count": 7,
   "metadata": {},
   "outputs": [],
   "source": [
    "\n",
    "t.reset()\n",
    "for i in range (2):\n",
    "    t.forward (20)\n",
    "    t.right (90)\n",
    "    t.forward (40)\n",
    "    t.right (90)"
   ]
  },
  {
   "cell_type": "markdown",
   "metadata": {},
   "source": [
    "\n",
    "## Funktionen mit Parametern\n",
    "\n",
    "Wie sie wahrscheinlich gemerkt haben, wäre es sehr nützlich, wenn man nicht für jede Quadratgrösse eine eigene Funktion schreiben müsste. Dies ist natürlich möglich. Wir müssen der Schildkröte nur klar machen, dass unsere gewünschte Variable später erst mit einem Zahlenwert gefüllt wird. \n",
    "```\n",
    "def quadrat2(seite):\n",
    "    for i in range(4):\n",
    "        t.forward(seite)\n",
    "        t.right(90)\n",
    "quadrat2(100)\n",
    "```\n",
    "Nun kann man in der Befehlszeile den neu geschaffenen Befehl quadrat benutzen wobei man nun zusätzlich zum Namen eine Zahl, angeben muss - die gewünschte Seitenlänge. Sie benutzen hier eine __Variable__ und nennen sie `seite`, diese kann beliebige Werte aufnehmen.\n",
    "\n",
    "```\n",
    "quadrat2 (100)  # bei diesem Aufruf landet 100 in seite und damit wird t.forward(seite) zu t.forward(100)\n",
    "quadrat2 (150)  # bei diesem Aufruf landet 150 in seite und damit wird t.forward(seite) zu t.forward(150)\n",
    "```"
   ]
  },
  {
   "cell_type": "markdown",
   "metadata": {},
   "source": [
    "## Aufgabe: quadrat2 mit Seitenlänge\n",
    "\n",
    "Schreiben Sei nun selbst die Funktion `quadrat2`, die Sie mittels `quadrat2(100)` aufrufen können, um ein Quadrat mit Seitenlänge 100 zu zeichnen. Sie dürfen die Funktion von oben kopieren - allerdings soll die Variable nicht `seite` heissen, sondern `x`\n",
    "\n",
    "Rufen Sie es wiederholt auf, mit den Parametern 10, 20, 30, 40\n",
    "\n",
    "<img src=\"https://www.human.li/lp/img/py_quad4.png\">"
   ]
  },
  {
   "cell_type": "code",
   "execution_count": 27,
   "metadata": {},
   "outputs": [],
   "source": [
    "t.reset()\n",
    "# hier kommt Ihr Code hin, Sie dürfen von oben kopieren\n",
    "\n"
   ]
  },
  {
   "cell_type": "markdown",
   "metadata": {},
   "source": [
    "## Aufgabe: fuenfeck mit Seitenlänge\n",
    "\n",
    "Schreiben Sei nun selbst die Funktion `fuenfeck`, die Sie mittels `fuenfeck(100)` aufrufen können, um ein Fünfeck mit Seitenlänge 100 zu zeichnen\n",
    "\n",
    "Rufen Sie es auch wiederholt auf, mit den Parametern 10, 20, 30, 40\n",
    "\n",
    "<img src=\"https://www.human.li/lp/img/py_5eck.png\">"
   ]
  },
  {
   "cell_type": "code",
   "execution_count": 27,
   "metadata": {},
   "outputs": [],
   "source": [
    "t.reset()\n",
    "# hier kommt Ihr Code hin\n",
    "\n"
   ]
  },
  {
   "cell_type": "markdown",
   "metadata": {},
   "source": [
    "## Aufgabe: dreieck2 mit Seitenlänge und Farbe\n",
    "\n",
    "Funktionen können mehr als nur ein Parameter haben. Schreiben Sei nun selbst die Funktion `dreieck2`, die Sie mittels `dreieck2(länge, rot, grün, blau)` aufrufen können. Für ein grünes Dreieck mit Seitenlänge 100 wäre das also `dreieck2(100, 0, 255, 0)`\n",
    "\n",
    "Rufen Sie die Funktion wiederholt auf, um diese Figur zu erzeugen:\n",
    "\n",
    "<img src=\"https://luzmedia.ch/pubfiles/it-teaching/py_l2/funktionen_farbigedreiecke.png\">\n",
    "\n",
    "Bemerkung: Das kleinste Dreieck ist weiss, dann rot, blau und grün."
   ]
  },
  {
   "cell_type": "code",
   "execution_count": 27,
   "metadata": {},
   "outputs": [],
   "source": [
    "t.reset()\n",
    "# hier kommt Ihr Code hin\n",
    "\n"
   ]
  },
  {
   "cell_type": "markdown",
   "metadata": {},
   "source": [
    "## Aufgabe: quadrat2 benutzen\n",
    "\n",
    "Benutzen Sie Ihre `quadrat2` Funktion, um die Schiene mit flexibler Grösse zeichnen zu lassen\n",
    "\n",
    "<img src=\"https://www.human.li/lp/img/py_schiene.png\">\n",
    "\n",
    "Zusatzaufgabe: bauen Sie eine Funktion `schiene(x)` das die Seitenlänge an die Funktion `quadrat2(x)` durchreicht, das Sie aus der Funktion `schiene` heraus wiederholt aufrufen"
   ]
  },
  {
   "cell_type": "code",
   "execution_count": 11,
   "metadata": {},
   "outputs": [],
   "source": [
    "t.reset()\n",
    "# Einfachere Variante:\n",
    "for i in range(10):\n",
    "    # hier kommt Ihr Code hin"
   ]
  },
  {
   "cell_type": "code",
   "execution_count": 27,
   "metadata": {},
   "outputs": [],
   "source": [
    "t.reset()\n",
    "# Komplexere Variante:\n",
    "def schiene (x):\n",
    "    # hier kommt Ihr Code hin\n",
    "\n",
    "schiene(20)"
   ]
  },
  {
   "cell_type": "markdown",
   "metadata": {},
   "source": [
    "## Aufgabe: rechteck mit zwei Parametern\n",
    "\n",
    "Schreiben Sei nun die Funktion `rechteck`, mit der Sie mittels `rechteck(100, 60)` ein Rechteck mit Länge 100 und Breite 60 zeichnen\n",
    "\n",
    "```\n",
    "def rechteck(laenge, breite):\n",
    "```"
   ]
  },
  {
   "cell_type": "code",
   "execution_count": 37,
   "metadata": {},
   "outputs": [],
   "source": [
    "t.reset()\n",
    "# hier kommt Ihr Code hin\n",
    "def rechteck(laenge, breite):\n",
    "    for i in range(2):\n",
    "        # hier müssen Sie noch etwas anpassen, so dass die Variablen laenge und breite funktionieren\n",
    "        t.forward(100)\n",
    "        t.right(90)\n",
    "        t.forward(60)\n",
    "        t.right(90)\n",
    "rechteck(60,100)"
   ]
  },
  {
   "cell_type": "markdown",
   "metadata": {},
   "source": [
    "## Aufgabe: rechteck benutzen\n",
    "\n",
    "Benutzen Sie Ihre `rechteck` Funktion, um die Schiene mit flexibler Grösse zeichnen zu lassen. Hier eine Schiene mit Breite laenge 15, breite 30 aneinandergereiht\n",
    "\n",
    "<img src=\"https://www.human.li/lp/img/py_schiene2.png\">\n"
   ]
  },
  {
   "cell_type": "code",
   "execution_count": 39,
   "metadata": {},
   "outputs": [],
   "source": [
    "t.reset()\n",
    "# hier kommt Ihr Code hin\n",
    "\n",
    "for i in range (8):\n",
    "    rechteck(15, 30)\n",
    "    # hier fehlt noch etwas"
   ]
  },
  {
   "cell_type": "markdown",
   "metadata": {},
   "source": [
    "## Aufgabe: rechteck benutzen\n",
    "\n",
    "Erstellen Sie eine Funktion `schiene(anzahl, laenge, breite)` also mit drei Parametern. Der erste setzt die Anzahl Elemente, die zwei nächsten die Länge/Breite jedes Elements.\n",
    "\n",
    "Wahrscheinlich haben Sie obige Aufgabe in etwa so gelöst um `8` Schienen mit der Länge `15` und der Breite `30` zu erstellen:\n",
    "```python\n",
    "for i in range(8):\n",
    "    rechteck(15,30)\n",
    "    t.forward(15)\n",
    "```\n",
    "\n",
    "Die Variablen, die an eine von Ihnen zu erstellende Funktion übergeben werden sind `schiene(anzahl, laenge, breite)`. Ihre Aufgabe ist es zu überlegen, wie Sie die drei Variablen verwenden können um dies nicht fix sondern flexibel zu gestalten. Es sollte somit `schiene(8, 15, 30)` genau dieselbe Figur ergeben.\n",
    "\n",
    "<img src=\"https://www.human.li/lp/img/py_schiene2.png\">\n"
   ]
  },
  {
   "cell_type": "code",
   "execution_count": 41,
   "metadata": {},
   "outputs": [],
   "source": [
    "t.reset()\n",
    "def rechteck(laenge, breite):\n",
    "    for j in range (2):\n",
    "        t.forward(laenge)\n",
    "        t.right(90)\n",
    "        t.forward(breite)\n",
    "        t.right(90)\n",
    "        \n",
    "# Sie müssen wieder die folgende Funktion etwas anpassen\n",
    "def schiene(anzahl, laenge, breite):\n",
    "    for i in range(8):\n",
    "        rechteck(15,30)\n",
    "        t.forward(15)\n",
    "        \n",
    "schiene(8, 15, 30)"
   ]
  }
 ],
 "metadata": {
  "kernelspec": {
   "display_name": "Python 3 (ipykernel)",
   "language": "python",
   "name": "python3"
  },
  "language_info": {
   "codemirror_mode": {
    "name": "ipython",
    "version": 3
   },
   "file_extension": ".py",
   "mimetype": "text/x-python",
   "name": "python",
   "nbconvert_exporter": "python",
   "pygments_lexer": "ipython3",
   "version": "3.10.9"
  }
 },
 "nbformat": 4,
 "nbformat_minor": 4
}
