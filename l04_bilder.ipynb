{
 "cells": [
  {
   "cell_type": "markdown",
   "metadata": {},
   "source": [
    "Führen Sie zunächst wieder diesen Code aus, um das Notebook zu initialisieren."
   ]
  },
  {
   "cell_type": "code",
   "execution_count": null,
   "metadata": {},
   "outputs": [],
   "source": [
    "import ipyturtle3 as turtle\n",
    "myCanvas=turtle.Canvas(width=800,height=600)\n",
    "display(myCanvas)\n",
    "myTS=turtle.TurtleScreen(myCanvas)\n",
    "myTS.colormode(255)\n",
    "myTS.clear()\n",
    "t=turtle.Turtle(myTS)\n",
    "t.clear()"
   ]
  },
  {
   "cell_type": "markdown",
   "metadata": {},
   "source": [
    "# Schlaufe, Variabeln und Funktionen\n",
    "\n",
    "Bilder & Monitore funktionieren in der Informatik mit einzelnen Quadraten, sogenannte \"Pixel\", die alle eine unterschiedliche Farbe haben. Um das zu verstehen, schreiben wir nun selbst ein Programm, das ein ganzes Bild aus Quadraten zeichnen kann. Wir brauchen dazu zuerst eine Funktion `quadrat(farbe, laenge)`, die ein **farbiges Quadrat** zeichnet.\n",
    "\n",
    "Als inspiration hier der Code für ein mit Farbe ausgefülltes Dreieck:"
   ]
  },
  {
   "cell_type": "code",
   "execution_count": null,
   "metadata": {},
   "outputs": [],
   "source": [
    "t.reset()\n",
    "t.color(\"red\")\n",
    "t.begin_fill()\n",
    "for i in range(3):\n",
    "    t.forward(50)\n",
    "    t.right(120)\n",
    "t.end_fill()"
   ]
  },
  {
   "cell_type": "code",
   "execution_count": 14,
   "metadata": {},
   "outputs": [],
   "source": [
    "t.reset()\n",
    "# Schreiben Sie hier Ihre Funktion quadrat(farbe, laenge)"
   ]
  },
  {
   "attachments": {
    "cead4707-2885-465b-99ba-8e9cecc13f94.jpg": {
     "image/jpeg": "[encoded data removed]"
    }
   },
   "cell_type": "markdown",
   "metadata": {},
   "source": [
    "Nutzen Sie nun Ihre Funktion `quadrat(farbe, laenge)` so, dass eine Reihe aus Quadraten entsteht, die zwei abwechselnde Farben haben.\n",
    "\n",
    "![linie.jpg](attachment:cead4707-2885-465b-99ba-8e9cecc13f94.jpg)"
   ]
  },
  {
   "cell_type": "code",
   "execution_count": 17,
   "metadata": {},
   "outputs": [],
   "source": [
    "# Nutzen Sie hier Ihre Funktion, um die Linie zu zeichnen...\n"
   ]
  },
  {
   "attachments": {
    "42bbefd1-dbda-4557-845c-fb6be66d4615.jpg": {
     "image/jpeg": "[encoded data removed]"
    }
   },
   "cell_type": "markdown",
   "metadata": {},
   "source": [
    "Ein Bild sind nun nichts Anderes als mehrere solche Linien untereinander. Versuchen Sie das mal, damit es so aussieht:\n",
    "\n",
    "![bild1.jpg](attachment:42bbefd1-dbda-4557-845c-fb6be66d4615.jpg)"
   ]
  },
  {
   "cell_type": "code",
   "execution_count": null,
   "metadata": {},
   "outputs": [],
   "source": []
  },
  {
   "cell_type": "markdown",
   "metadata": {},
   "source": [
    "Jetzt bräuchten wir ja eigentlich nur noch die richtigen Farben für ein Bild!\n",
    "\n",
    "Dazu stelle ich Ihnen hier zwei Variabeln und eine Funktion bereit.\n",
    "* `resolutionx` speichert, wie viele Pixel das Bild in der Horizontalen hat.\n",
    "* `resolutiony` speichert, wie viele Pixel das Bild in der Vertikalen hat.\n",
    "* Die Funktion `getcolor(x, y)` können Sie gebrauchen, um die RGB-Farbwerte für einen beliebigen Pixel zu erhalten.\n",
    "\n",
    "Führen Sie diese Zelle **unbedingt einmal aus**."
   ]
  },
  {
   "cell_type": "code",
   "execution_count": 19,
   "metadata": {},
   "outputs": [],
   "source": [
    "from PilLite import Image\n",
    "img = Image.open('images/smile.jpg')\n",
    "resolutionx = img.size[0]\n",
    "resolutiony = img.size[1]\n",
    "def getcolor(x, y):\n",
    "  \"\"\"Findet die Farbe des Pixels x, y im Format (R, G, B) \"\"\"\n",
    "  return tuple(img.get_pixel((x, y)).to_bytes(3, byteorder='big'))"
   ]
  },
  {
   "cell_type": "markdown",
   "metadata": {},
   "source": [
    "Jetzt sind Sie dran! Versuchen Sie mit Ihrer Funktion `quadrat()`das Bild nachzuzeichnen!\n",
    "\n",
    "Ein Tipp: Beginnen Sie einfach damit, mal die Variabeln `resolutionx` und `resolutiony` auszulesen und die Funktion `getcolor()` zu testen. Machen Sie dann eine einzige Linie - und bauen Sie Schritt für Schritt aus."
   ]
  },
  {
   "cell_type": "code",
   "execution_count": 28,
   "metadata": {},
   "outputs": [
    {
     "data": {
      "text/plain": [
       "60"
      ]
     },
     "execution_count": 28,
     "metadata": {},
     "output_type": "execute_result"
    }
   ],
   "source": [
    "# Damit das mit den Farben funktioniert, müssen wir den Farbmodus richtig definieren. \n",
    "myTS.colormode(255)\n",
    "t.reset()\n",
    "\n",
    "# Ab hier kommt Ihr Code.\n",
    "# z.B. resolutionx oder getcolor(30,30)\n",
    "\n",
    "resolutionx"
   ]
  },
  {
   "attachments": {},
   "cell_type": "markdown",
   "metadata": {},
   "source": [
    "Wenn das geklappt hat, versuchen Sie als Letztes noch, das Bild durch \"babyturtle.jpg\" zu ersetzen. Wenn das auf Anhieb klappt: Gratuliere! Sie haben eine allgemeingültige Funktion geschrieben, die Rastergrafiken nachzeichnen kann!\n",
    "\n",
    "Vielleicht funktioniert es ja nicht auf Anhieb... Dann versuchen Sie Ihre Funktion so abzuändern, dass sie bei beiden Bildern funktioniert."
   ]
  },
  {
   "cell_type": "code",
   "execution_count": 20,
   "metadata": {},
   "outputs": [],
   "source": [
    "# Damit das mit den Farben funktioniert, müssen wir den Farbmodus richtig definieren. \n",
    "myTS.colormode(255)\n",
    "t.reset()\n",
    "\n",
    "# Ab hier kommt Ihr Code.\n",
    "\n"
   ]
  }
 ],
 "metadata": {
  "kernelspec": {
   "display_name": "Python 3 (ipykernel)",
   "language": "python",
   "name": "python3"
  },
  "language_info": {
   "codemirror_mode": {
    "name": "ipython",
    "version": 3
   },
   "file_extension": ".py",
   "mimetype": "text/x-python",
   "name": "python",
   "nbconvert_exporter": "python",
   "pygments_lexer": "ipython3",
   "version": "3.10.2"
  }
 },
 "nbformat": 4,
 "nbformat_minor": 4
}
